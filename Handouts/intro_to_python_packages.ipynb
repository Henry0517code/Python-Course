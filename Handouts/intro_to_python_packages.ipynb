{
 "cells": [
  {
   "cell_type": "markdown",
   "metadata": {},
   "source": [
    "# Understanding Python Packages and `pip` for Beginners\n",
    "\n",
    "Python's modular design allows developers to organize code into reusable components called **packages**. A package is essentially a directory containing multiple modules (Python files) and an `__init__.py` file, which indicates that the directory should be treated as a package. This structure promotes code reuse and maintainability."
   ]
  },
  {
   "cell_type": "markdown",
   "metadata": {},
   "source": [
    "## What Is a Python Package?\n",
    "\n",
    "A **Python package** is a collection of modules organized under a common namespace. It enables developers to logically group related code, making it easier to manage and distribute. For example, a package named `utilities` might contain modules like `file_operations.py`, `data_processing.py`, and `network_tools.py`."
   ]
  },
  {
   "cell_type": "markdown",
   "metadata": {},
   "source": [
    "## How to Use a Python Package\n",
    "\n",
    "To use a package in your Python project, follow these steps:\n",
    "\n",
    "1. **Install the Package**: If the package is available on the Python Package Index (PyPI), you can install it using `pip` (more on `pip` below). For example:\n",
    "\n",
    "   ```bash\n",
    "   pip install package_name\n",
    "   ```\n",
    "\n",
    "2. **Import the Package or Module**: In your Python script, import the package or specific modules as needed:\n",
    "\n",
    "   ```python\n",
    "   import package_name\n",
    "   # or\n",
    "   from package_name import module_name\n",
    "   ```\n",
    "\n",
    "3. **Use the Functions or Classes**: After importing, you can utilize the functions or classes provided by the package:\n",
    "\n",
    "   ```python\n",
    "   result = package_name.module_name.function_name(arguments)\n",
    "   ```"
   ]
  },
  {
   "cell_type": "markdown",
   "metadata": {},
   "source": [
    "## What Is `pip`?\n",
    "\n",
    "`pip` is Python's package installer, allowing you to install and manage additional libraries and dependencies that aren't included in the standard library. It's a command-line tool that connects to the Python Package Index (PyPI) to fetch and install packages. Most Python distributions come with `pip` pre-installed."
   ]
  },
  {
   "cell_type": "markdown",
   "metadata": {},
   "source": [
    "## Using `pip` to Manage Packages\n",
    "\n",
    "Here are some common `pip` commands:\n",
    "\n",
    "- **Install a Package**:\n",
    "\n",
    "  ```bash\n",
    "  pip install package_name\n",
    "  ```\n",
    "\n",
    "- **Upgrade a Package**:\n",
    "\n",
    "  ```bash\n",
    "  pip install --upgrade package_name\n",
    "  ```\n",
    "\n",
    "- **Uninstall a Package**:\n",
    "\n",
    "  ```bash\n",
    "  pip uninstall package_name\n",
    "  ```\n",
    "\n",
    "- **List Installed Packages**:\n",
    "\n",
    "  ```bash\n",
    "  pip list\n",
    "  ```\n",
    "\n",
    "- **Show Package Information**:\n",
    "\n",
    "  ```bash\n",
    "  pip show package_name\n",
    "  ```"
   ]
  },
  {
   "cell_type": "markdown",
   "metadata": {},
   "source": [
    "## Example 1: Creating Word Clouds with the `wordcloud` Package\n",
    "\n",
    "A **word cloud** is a visual representation of text data, where the size of each word indicates its frequency or importance. The `wordcloud` package in Python allows you to generate these visualizations easily."
   ]
  },
  {
   "cell_type": "code",
   "execution_count": null,
   "metadata": {},
   "outputs": [],
   "source": [
    "%pip install wordcloud matplotlib"
   ]
  },
  {
   "cell_type": "code",
   "execution_count": null,
   "metadata": {},
   "outputs": [],
   "source": [
    "from wordcloud import WordCloud\n",
    "import matplotlib.pyplot as plt\n",
    "\n",
    "text = \"\"\"\n",
    "Python is an interpreted, high-level and general-purpose programming language.\n",
    "Python's design philosophy emphasizes code readability with its notable use of significant whitespace.\n",
    "Its language constructs and object-oriented approach aim to help programmers write clear, logical code for small and large-scale projects.\n",
    "\"\"\"\n",
    "\n",
    "# Generate the word cloud\n",
    "wordcloud = WordCloud(width=800, height=400, background_color='white').generate(text)\n",
    "\n",
    "# Display the word cloud\n",
    "plt.figure(figsize=(10, 5))\n",
    "plt.imshow(wordcloud, interpolation='bilinear')\n",
    "plt.axis('off')\n",
    "plt.show()"
   ]
  },
  {
   "cell_type": "markdown",
   "metadata": {},
   "source": [
    "## Example 2: Translating Text with the `translate` Package\n",
    "\n",
    "The `translate` package provides a simple interface for translating text between different languages."
   ]
  },
  {
   "cell_type": "code",
   "execution_count": null,
   "metadata": {},
   "outputs": [],
   "source": [
    "%pip install translate"
   ]
  },
  {
   "cell_type": "code",
   "execution_count": null,
   "metadata": {},
   "outputs": [],
   "source": [
    "from translate import Translator\n",
    "\n",
    "# Initialize the translator for English to French\n",
    "translator = Translator(to_lang=\"fr\")\n",
    "\n",
    "# Text to translate\n",
    "text = \"Hello, how are you?\"\n",
    "\n",
    "# Perform the translation\n",
    "translation = translator.translate(text)\n",
    "print(f\"Original: {text}\")\n",
    "print(f\"Translation: {translation}\")"
   ]
  },
  {
   "cell_type": "markdown",
   "metadata": {},
   "source": [
    "## Example 3: Creating QR Codes with the `qrcode` Package\n",
    "\n",
    "QR codes are two-dimensional barcodes that can store information such as URLs, text, or other data. The `qrcode` package allows you to generate QR codes in Python."
   ]
  },
  {
   "cell_type": "code",
   "execution_count": null,
   "metadata": {},
   "outputs": [],
   "source": [
    "%pip install qrcode[pil]"
   ]
  },
  {
   "cell_type": "code",
   "execution_count": null,
   "metadata": {},
   "outputs": [],
   "source": [
    "import qrcode\n",
    "\n",
    "# Data to encode\n",
    "data = \"https://www.example.com\"\n",
    "\n",
    "# Create a QR code instance\n",
    "qr = qrcode.QRCode(\n",
    "    version=1,\n",
    "    error_correction=qrcode.constants.ERROR_CORRECT_L,\n",
    "    box_size=10,\n",
    "    border=4,\n",
    ")\n",
    "\n",
    "# Add data to the QR code\n",
    "qr.add_data(data)\n",
    "qr.make(fit=True)\n",
    "\n",
    "# Create an image from the QR code\n",
    "img = qr.make_image(fill='black', back_color='white')\n",
    "\n",
    "# Save the image\n",
    "img.save(\"qrcode_example.png\")"
   ]
  },
  {
   "cell_type": "markdown",
   "metadata": {},
   "source": [
    "## Conclusion\n",
    "\n",
    "Understanding Python packages and how to manage them with `pip` is essential for efficient Python development. Packages allow for organized, reusable code, while `pip` provides a straightforward way to install and manage these packages. As you progress in your Python journey, mastering these tools will greatly enhance your productivity and code quality."
   ]
  }
 ],
 "metadata": {
  "kernelspec": {
   "display_name": "base",
   "language": "python",
   "name": "python3"
  },
  "language_info": {
   "codemirror_mode": {
    "name": "ipython",
    "version": 3
   },
   "file_extension": ".py",
   "mimetype": "text/x-python",
   "name": "python",
   "nbconvert_exporter": "python",
   "pygments_lexer": "ipython3",
   "version": "3.12.4"
  }
 },
 "nbformat": 4,
 "nbformat_minor": 4
}
