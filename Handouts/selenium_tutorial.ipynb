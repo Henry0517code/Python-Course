{
 "cells": [
  {
   "cell_type": "markdown",
   "id": "cf47dd84",
   "metadata": {},
   "source": [
    "# Selenium Python Tutorial\n",
    "Selenium is a popular framework for automating web browsers. This tutorial covers setup and common tasks with Chrome WebDriver."
   ]
  },
  {
   "cell_type": "markdown",
   "id": "9a67dddd",
   "metadata": {},
   "source": [
    "## Setting Up Selenium and WebDriver\n",
    "- Ensure Python is installed.\n",
    "- Install Selenium via pip:\n",
    "```bash\n",
    "!pip install selenium\n",
    "```\n",
    "- Download ChromeDriver matching your Chrome version if necessary."
   ]
  },
  {
   "cell_type": "code",
   "execution_count": null,
   "id": "92ca5f96",
   "metadata": {},
   "outputs": [],
   "source": [
    "!pip install selenium"
   ]
  },
  {
   "cell_type": "markdown",
   "id": "8cdfcc63",
   "metadata": {},
   "source": [
    "## Launching Chrome Browser\n",
    "Import required modules and launch Chrome:\n",
    "```python\n",
    "from selenium import webdriver\n",
    "from selenium.webdriver.common.by import By\n",
    "from selenium.webdriver.common.keys import Keys\n",
    "\n",
    "driver = webdriver.Chrome()\n",
    "```"
   ]
  },
  {
   "cell_type": "code",
   "execution_count": null,
   "id": "4b50bdd1",
   "metadata": {},
   "outputs": [],
   "source": [
    "from selenium import webdriver\n",
    "from selenium.webdriver.common.by import By\n",
    "from selenium.webdriver.common.keys import Keys\n",
    "\n",
    "# Launch Chrome (ensure chromedriver is in PATH or managed by Selenium Manager)\n",
    "driver = webdriver.Chrome()"
   ]
  },
  {
   "cell_type": "markdown",
   "id": "74daecea",
   "metadata": {},
   "source": [
    "## Navigating to a Webpage\n",
    "Use `get()` to load a URL and print the title and current URL."
   ]
  },
  {
   "cell_type": "code",
   "execution_count": null,
   "id": "f5899a1a",
   "metadata": {},
   "outputs": [],
   "source": [
    "driver.get('https://www.python.org')\n",
    "print(driver.title)\n",
    "print(driver.current_url)"
   ]
  },
  {
   "cell_type": "markdown",
   "id": "d5fac5de",
   "metadata": {},
   "source": [
    "## Locating Elements on the Page\n",
    "Common locators: By.ID, By.NAME, By.CLASS_NAME, By.TAG_NAME, By.CSS_SELECTOR, By.XPATH.\n",
    "Example locating the search input on python.org:"
   ]
  },
  {
   "cell_type": "code",
   "execution_count": null,
   "id": "62e9007e",
   "metadata": {},
   "outputs": [],
   "source": [
    "search_input = driver.find_element(By.NAME, 'q')\n",
    "search_input"
   ]
  },
  {
   "cell_type": "markdown",
   "id": "f47675df",
   "metadata": {},
   "source": [
    "## Interacting with Elements\n",
    "- `send_keys()`, `clear()`, `click()`, `submit()`\n",
    "Example: perform a search on python.org."
   ]
  },
  {
   "cell_type": "code",
   "execution_count": null,
   "id": "81eaadd7",
   "metadata": {},
   "outputs": [],
   "source": [
    "search_input.clear()\n",
    "search_input.send_keys('getting started with python')\n",
    "search_input.send_keys(Keys.RETURN)"
   ]
  },
  {
   "cell_type": "markdown",
   "id": "6449855e",
   "metadata": {},
   "source": [
    "## Using WebDriverWait and Expected Conditions\n",
    "Wait for dynamic content instead of using `time.sleep()`."
   ]
  },
  {
   "cell_type": "code",
   "execution_count": null,
   "id": "e41df36d",
   "metadata": {},
   "outputs": [],
   "source": [
    "from selenium.webdriver.support.ui import WebDriverWait\n",
    "from selenium.webdriver.support import expected_conditions as EC\n",
    "\n",
    "driver.get('https://the-internet.herokuapp.com/dynamic_loading/2')\n",
    "driver.find_element(By.TAG_NAME, 'button').click()\n",
    "WebDriverWait(driver, 10).until(\n",
    "    EC.text_to_be_present_in_element((By.ID, 'finish'), 'Hello World!')\n",
    ")\n",
    "print(driver.find_element(By.ID, 'finish').text)"
   ]
  },
  {
   "cell_type": "markdown",
   "id": "0ecc2ae6",
   "metadata": {},
   "source": [
    "## Handling Alerts and Pop-ups\n",
    "Switch to alerts and accept/dismiss/prompt."
   ]
  },
  {
   "cell_type": "code",
   "execution_count": null,
   "id": "5569c9c4",
   "metadata": {},
   "outputs": [],
   "source": [
    "driver.get('https://the-internet.herokuapp.com/javascript_alerts')\n",
    "# Simple alert example\n",
    "driver.find_element(By.XPATH, \"//button[text()='Click for JS Alert']\").click()\n",
    "alert = driver.switch_to.alert\n",
    "print(alert.text)\n",
    "alert.accept()"
   ]
  },
  {
   "cell_type": "markdown",
   "id": "28774610",
   "metadata": {},
   "source": [
    "## Switching Between Frames and Windows\n",
    "Demonstrations for iframes and multiple windows."
   ]
  },
  {
   "cell_type": "code",
   "execution_count": null,
   "id": "4530115b",
   "metadata": {},
   "outputs": [],
   "source": [
    "# iFrame example\n",
    "driver.get('https://the-internet.herokuapp.com/iframe')\n",
    "iframe = driver.find_element(By.TAG_NAME, 'iframe')\n",
    "driver.switch_to.frame(iframe)\n",
    "editor = driver.find_element(By.ID, 'tinymce')\n",
    "editor.clear()\n",
    "editor.send_keys('Hello, world!')\n",
    "driver.switch_to.default_content()"
   ]
  },
  {
   "cell_type": "markdown",
   "id": "f958f067",
   "metadata": {},
   "source": [
    "## Taking Screenshots\n",
    "Capture the current page view as an image file."
   ]
  },
  {
   "cell_type": "code",
   "execution_count": null,
   "id": "e11cf7be",
   "metadata": {},
   "outputs": [],
   "source": [
    "driver.save_screenshot('page_screenshot.png')"
   ]
  },
  {
   "cell_type": "markdown",
   "id": "fd77aaac",
   "metadata": {},
   "source": [
    "## Managing Cookies\n",
    "Get, add, delete cookies for the current domain."
   ]
  },
  {
   "cell_type": "code",
   "execution_count": null,
   "id": "14d02134",
   "metadata": {},
   "outputs": [],
   "source": [
    "driver.get('https://example.com')\n",
    "print(driver.get_cookies())\n",
    "driver.add_cookie({'name': 'testcookie', 'value': '123'})\n",
    "print(driver.get_cookie('testcookie'))"
   ]
  },
  {
   "cell_type": "markdown",
   "id": "fdf34b03",
   "metadata": {},
   "source": [
    "## File Uploads and Downloads\n",
    "Automate file inputs and configure Chrome for automatic downloads."
   ]
  },
  {
   "cell_type": "code",
   "execution_count": null,
   "id": "58619f6a",
   "metadata": {},
   "outputs": [],
   "source": [
    "# File upload example\n",
    "driver.get('https://the-internet.herokuapp.com/upload')\n",
    "driver.find_element(By.ID, 'file-upload').send_keys('/path/to/file.txt')\n",
    "driver.find_element(By.ID, 'file-submit').click()"
   ]
  },
  {
   "cell_type": "markdown",
   "id": "0a5c2f73",
   "metadata": {},
   "source": [
    "## Headless Browsing\n",
    "Run the browser without a GUI."
   ]
  },
  {
   "cell_type": "code",
   "execution_count": null,
   "id": "00e094b9",
   "metadata": {},
   "outputs": [],
   "source": [
    "from selenium.webdriver.chrome.options import Options\n",
    "options = Options()\n",
    "options.headless = True\n",
    "headless_driver = webdriver.Chrome(options=options)\n",
    "headless_driver.get('https://www.python.org')\n",
    "print(headless_driver.title)\n",
    "headless_driver.quit()"
   ]
  },
  {
   "cell_type": "markdown",
   "id": "2f7e11f7",
   "metadata": {},
   "source": [
    "## Browser Navigation (Back, Forward, Refresh)\n",
    "Control browser history."
   ]
  },
  {
   "cell_type": "code",
   "execution_count": null,
   "id": "bfbca0ab",
   "metadata": {},
   "outputs": [],
   "source": [
    "driver.get('https://example.com')\n",
    "driver.get('https://example.org')\n",
    "driver.back()\n",
    "driver.forward()\n",
    "driver.refresh()"
   ]
  },
  {
   "cell_type": "markdown",
   "id": "0be87dcc",
   "metadata": {},
   "source": [
    "## Executing JavaScript\n",
    "Run custom JS in the page context."
   ]
  },
  {
   "cell_type": "code",
   "execution_count": null,
   "id": "338c8b09",
   "metadata": {},
   "outputs": [],
   "source": [
    "print(driver.execute_script('return document.title;'))\n",
    "driver.execute_script('window.scrollTo(0, document.body.scrollHeight);')"
   ]
  },
  {
   "cell_type": "markdown",
   "id": "da5942c3",
   "metadata": {},
   "source": [
    "## Closing and Quitting the Browser\n",
    "Clean up WebDriver sessions."
   ]
  },
  {
   "cell_type": "code",
   "execution_count": null,
   "id": "abb213c4",
   "metadata": {},
   "outputs": [],
   "source": [
    "driver.close()\n",
    "driver.quit()"
   ]
  }
 ],
 "metadata": {},
 "nbformat": 4,
 "nbformat_minor": 5
}
