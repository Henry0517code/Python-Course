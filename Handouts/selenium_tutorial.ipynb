{
 "cells": [
  {
   "cell_type": "markdown",
   "id": "f1fe641e",
   "metadata": {},
   "source": [
    "# Selenium Python Tutorial\n",
    "\n",
    "This notebook demonstrates how to use Selenium with Python for web automation testing."
   ]
  },
  {
   "cell_type": "markdown",
   "id": "a62e0861",
   "metadata": {},
   "source": [
    "## Getting Started with Selenium in Python\n",
    "\n",
    "### Prerequisites\n",
    "\n",
    "- **Python**: Ensure Python is installed. Download it from [python.org](https://www.python.org/).\n",
    "\n",
    "- **Selenium Library**: Install via pip:\n",
    "\n",
    "- **WebDriver**: Download the driver for your browser. For Chrome, get [ChromeDriver](https://googlechromelabs.github.io/chrome-for-testing/)."
   ]
  },
  {
   "cell_type": "code",
   "execution_count": 1,
   "id": "577fc1d4",
   "metadata": {},
   "outputs": [
    {
     "name": "stdout",
     "output_type": "stream",
     "text": [
      "Collecting selenium\n",
      "  Downloading selenium-4.27.1-py3-none-any.whl.metadata (7.1 kB)\n",
      "Requirement already satisfied: urllib3<3,>=1.26 in /opt/anaconda3/envs/emotion_recognition/lib/python3.12/site-packages (from urllib3[socks]<3,>=1.26->selenium) (2.2.3)\n",
      "Collecting trio~=0.17 (from selenium)\n",
      "  Downloading trio-0.28.0-py3-none-any.whl.metadata (8.5 kB)\n",
      "Collecting trio-websocket~=0.9 (from selenium)\n",
      "  Downloading trio_websocket-0.11.1-py3-none-any.whl.metadata (4.7 kB)\n",
      "Requirement already satisfied: certifi>=2021.10.8 in /opt/anaconda3/envs/emotion_recognition/lib/python3.12/site-packages (from selenium) (2024.8.30)\n",
      "Requirement already satisfied: typing_extensions~=4.9 in /opt/anaconda3/envs/emotion_recognition/lib/python3.12/site-packages (from selenium) (4.12.2)\n",
      "Collecting websocket-client~=1.8 (from selenium)\n",
      "  Downloading websocket_client-1.8.0-py3-none-any.whl.metadata (8.0 kB)\n",
      "Collecting attrs>=23.2.0 (from trio~=0.17->selenium)\n",
      "  Downloading attrs-24.3.0-py3-none-any.whl.metadata (11 kB)\n",
      "Collecting sortedcontainers (from trio~=0.17->selenium)\n",
      "  Downloading sortedcontainers-2.4.0-py2.py3-none-any.whl.metadata (10 kB)\n",
      "Requirement already satisfied: idna in /opt/anaconda3/envs/emotion_recognition/lib/python3.12/site-packages (from trio~=0.17->selenium) (3.10)\n",
      "Collecting outcome (from trio~=0.17->selenium)\n",
      "  Downloading outcome-1.3.0.post0-py2.py3-none-any.whl.metadata (2.6 kB)\n",
      "Collecting sniffio>=1.3.0 (from trio~=0.17->selenium)\n",
      "  Downloading sniffio-1.3.1-py3-none-any.whl.metadata (3.9 kB)\n",
      "Collecting wsproto>=0.14 (from trio-websocket~=0.9->selenium)\n",
      "  Downloading wsproto-1.2.0-py3-none-any.whl.metadata (5.6 kB)\n",
      "Requirement already satisfied: pysocks!=1.5.7,<2.0,>=1.5.6 in /opt/anaconda3/envs/emotion_recognition/lib/python3.12/site-packages (from urllib3[socks]<3,>=1.26->selenium) (1.7.1)\n",
      "Collecting h11<1,>=0.9.0 (from wsproto>=0.14->trio-websocket~=0.9->selenium)\n",
      "  Downloading h11-0.14.0-py3-none-any.whl.metadata (8.2 kB)\n",
      "Downloading selenium-4.27.1-py3-none-any.whl (9.7 MB)\n",
      "\u001b[2K   \u001b[90m━━━━━━━━━━━━━━━━━━━━━━━━━━━━━━━━━━━━━━━━\u001b[0m \u001b[32m9.7/9.7 MB\u001b[0m \u001b[31m373.8 kB/s\u001b[0m eta \u001b[36m0:00:00\u001b[0ma \u001b[36m0:00:01\u001b[0m\n",
      "\u001b[?25hDownloading trio-0.28.0-py3-none-any.whl (486 kB)\n",
      "Downloading trio_websocket-0.11.1-py3-none-any.whl (17 kB)\n",
      "Downloading websocket_client-1.8.0-py3-none-any.whl (58 kB)\n",
      "Downloading attrs-24.3.0-py3-none-any.whl (63 kB)\n",
      "Downloading sniffio-1.3.1-py3-none-any.whl (10 kB)\n",
      "Downloading wsproto-1.2.0-py3-none-any.whl (24 kB)\n",
      "Downloading outcome-1.3.0.post0-py2.py3-none-any.whl (10 kB)\n",
      "Downloading sortedcontainers-2.4.0-py2.py3-none-any.whl (29 kB)\n",
      "Downloading h11-0.14.0-py3-none-any.whl (58 kB)\n",
      "Installing collected packages: sortedcontainers, websocket-client, sniffio, h11, attrs, wsproto, outcome, trio, trio-websocket, selenium\n",
      "Successfully installed attrs-24.3.0 h11-0.14.0 outcome-1.3.0.post0 selenium-4.27.1 sniffio-1.3.1 sortedcontainers-2.4.0 trio-0.28.0 trio-websocket-0.11.1 websocket-client-1.8.0 wsproto-1.2.0\n"
     ]
    }
   ],
   "source": [
    "!pip install selenium"
   ]
  },
  {
   "cell_type": "markdown",
   "id": "8a95b065",
   "metadata": {},
   "source": [
    "### Import Necessary Modules\n",
    "\n",
    "The selenium.webdriver module provides all the WebDriver implementations. Currently supported WebDriver implementations are Firefox, Chrome, IE and Remote. The Keys class provide keys in the keyboard like RETURN, F1, ALT etc. The By class is used to locate elements within a document."
   ]
  },
  {
   "cell_type": "code",
   "execution_count": 37,
   "id": "017eb992",
   "metadata": {},
   "outputs": [],
   "source": [
    "from selenium import webdriver\n",
    "from selenium.webdriver.common.keys import Keys\n",
    "from selenium.webdriver.common.by import By"
   ]
  },
  {
   "cell_type": "markdown",
   "id": "839def83",
   "metadata": {},
   "source": [
    "### Initialize WebDriver\n",
    "\n",
    "Replace `'path_to_chromedriver'` with the actual path to the ChromeDriver executable."
   ]
  },
  {
   "cell_type": "code",
   "execution_count": 38,
   "id": "e99e8689",
   "metadata": {},
   "outputs": [],
   "source": [
    "driver = webdriver.Chrome()"
   ]
  },
  {
   "cell_type": "markdown",
   "id": "da12b5f4",
   "metadata": {},
   "source": [
    "### Open a Website"
   ]
  },
  {
   "cell_type": "code",
   "execution_count": 39,
   "id": "5c1bcb45",
   "metadata": {},
   "outputs": [],
   "source": [
    "driver.get(\"https://www.python.org\")"
   ]
  },
  {
   "cell_type": "markdown",
   "id": "b96fff84",
   "metadata": {},
   "source": [
    "### Verify Page Title"
   ]
  },
  {
   "cell_type": "code",
   "execution_count": 23,
   "id": "b7e12a93",
   "metadata": {},
   "outputs": [
    {
     "name": "stdout",
     "output_type": "stream",
     "text": [
      "Welcome to Python.org\n"
     ]
    }
   ],
   "source": [
    "print(driver.title)  # Expected Output: \"Welcome to Python.org\""
   ]
  },
  {
   "cell_type": "markdown",
   "id": "b6aee213",
   "metadata": {},
   "source": [
    "### Interact with the Search Bar\n",
    "\n",
    "WebDriver offers a number of ways to find elements using the find_element method. For example, the input text element can be located by its name attribute using the find_element method and using By.NAME as its first parameter."
   ]
  },
  {
   "cell_type": "code",
   "execution_count": 35,
   "id": "bd34526b",
   "metadata": {},
   "outputs": [],
   "source": [
    "search_bar = driver.find_element(by=By.NAME, value=\"q\")  # Locate search bar\n",
    "search_bar.clear()  # Clear any pre-filled text"
   ]
  },
  {
   "cell_type": "code",
   "execution_count": null,
   "id": "4946be4b",
   "metadata": {},
   "outputs": [],
   "source": [
    "search_bar.send_keys(\"getting started with python\")  # Enter search query"
   ]
  },
  {
   "cell_type": "code",
   "execution_count": null,
   "id": "80eeab34",
   "metadata": {},
   "outputs": [],
   "source": [
    "search_bar.send_keys(Keys.RETURN)  # Simulate pressing Enter"
   ]
  },
  {
   "cell_type": "markdown",
   "id": "3b093182",
   "metadata": {},
   "source": [
    "### Verify Search Results"
   ]
  },
  {
   "cell_type": "code",
   "execution_count": 25,
   "id": "a8fa501d",
   "metadata": {},
   "outputs": [
    {
     "name": "stdout",
     "output_type": "stream",
     "text": [
      "https://www.python.org/search/?q=getting+started+with+python&submit=\n"
     ]
    }
   ],
   "source": [
    "print(driver.current_url)  # URL should reflect the search query"
   ]
  },
  {
   "cell_type": "markdown",
   "id": "43956d95",
   "metadata": {},
   "source": [
    "### Close the Browser"
   ]
  },
  {
   "cell_type": "code",
   "execution_count": null,
   "id": "fa23c3d6",
   "metadata": {},
   "outputs": [],
   "source": [
    "driver.close()"
   ]
  },
  {
   "cell_type": "markdown",
   "id": "ee9877d9",
   "metadata": {},
   "source": [
    "## Navigating"
   ]
  },
  {
   "cell_type": "markdown",
   "id": "22798286",
   "metadata": {},
   "source": [
    "### Interacting with Web Elements\n",
    "\n",
    "Selenium allows interaction with various web elements like buttons, links, and dropdowns.\n",
    "\n",
    "For example, given an element defined as:\n",
    "\n",
    "```html\n",
    "<input type=\"text\" name=\"passwd\" id=\"passwd-id\" />\n",
    "```\n",
    "\n",
    "you could find it using any of:\n",
    "\n",
    "```python\n",
    "element = driver.find_element(By.ID, \"passwd-id\")\n",
    "element = driver.find_element(By.NAME, \"passwd\")\n",
    "element = driver.find_element(By.XPATH, \"//input[@id='passwd-id']\")\n",
    "element = driver.find_element(By.CSS_SELECTOR, \"input#passwd-id\")\n",
    "```"
   ]
  },
  {
   "cell_type": "code",
   "execution_count": 67,
   "id": "434e0fa8",
   "metadata": {},
   "outputs": [],
   "source": [
    "driver = webdriver.Chrome()"
   ]
  },
  {
   "cell_type": "code",
   "execution_count": 73,
   "id": "798a2edc",
   "metadata": {},
   "outputs": [],
   "source": [
    "driver.get(\"http://www.google.com\")"
   ]
  },
  {
   "cell_type": "code",
   "execution_count": 74,
   "id": "5ea7e810",
   "metadata": {},
   "outputs": [],
   "source": [
    "search_bar = driver.find_element(by=By.NAME, value=\"q\")  # Locate search bar\n",
    "search_bar.clear()  # Clear any pre-filled text\n",
    "search_bar.send_keys(\"Selenium\")  # Enter search query\n",
    "\n",
    "# You can simulate pressing the arrow keys by using the “Keys” class:\n",
    "search_bar.send_keys(Keys.ARROW_LEFT * 2)"
   ]
  },
  {
   "cell_type": "code",
   "execution_count": null,
   "id": "21d6dda9",
   "metadata": {},
   "outputs": [],
   "source": [
    "search_bar.send_keys(Keys.RETURN)  # Submit search query"
   ]
  },
  {
   "cell_type": "code",
   "execution_count": 66,
   "id": "adf19476",
   "metadata": {},
   "outputs": [],
   "source": [
    "driver.close()"
   ]
  },
  {
   "cell_type": "markdown",
   "id": "7fdd9479",
   "metadata": {},
   "source": [
    "## To be continued..."
   ]
  }
 ],
 "metadata": {
  "kernelspec": {
   "display_name": "emotion_recognition",
   "language": "python",
   "name": "python3"
  },
  "language_info": {
   "codemirror_mode": {
    "name": "ipython",
    "version": 3
   },
   "file_extension": ".py",
   "mimetype": "text/x-python",
   "name": "python",
   "nbconvert_exporter": "python",
   "pygments_lexer": "ipython3",
   "version": "3.12.7"
  }
 },
 "nbformat": 4,
 "nbformat_minor": 5
}
