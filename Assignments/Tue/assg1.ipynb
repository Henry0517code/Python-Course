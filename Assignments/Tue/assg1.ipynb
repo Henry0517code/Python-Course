{
 "cells": [
  {
   "cell_type": "markdown",
   "id": "ddb4f0d3",
   "metadata": {},
   "source": [
    "## 1. Area of a Triangle\n",
    "\n",
    "### Description\n",
    "\n",
    "In this exercise, you will write a Python program to calculate the area of a triangle when given the lengths of its three sides. You will use Heron's formula to compute the area based on the side lengths.\n",
    "\n",
    "Heron's formula states that:\n",
    "\n",
    "$\n",
    "\\text{Area} = \\sqrt{s(s-a)(s-b)(s-c)}\n",
    "$\n",
    "\n",
    "Where:\n",
    "- \\(a\\), \\(b\\), and \\(c\\) are the lengths of the three sides of the triangle.\n",
    "- \\(s\\) is the semi-perimeter of the triangle, calculated as:\n",
    "\n",
    "$\n",
    "s = \\frac{a + b + c}{2}\n",
    "$\n",
    "\n",
    "### Requirements:\n",
    "\n",
    "1. The program must prompt the user to input three positive numbers representing the lengths of the sides of the triangle.\n",
    "2. The program should calculate the semi-perimeter \\(s\\) and use it to compute the area of the triangle using Heron's formula.\n",
    "4. Use **comments** to explain the steps in the program for clarity.\n",
    "\n",
    "### Sample Input\n",
    "```ascii\n",
    "Enter the length of side 1: 3\n",
    "Enter the length of side 2: 4\n",
    "Enter the length of side 3: 5\n",
    "```\n",
    "\n",
    "### Sample Output\n",
    "```ascii\n",
    "The area of the triangle is 6.00.\n",
    "```\n",
    "\n",
    "### Hint\n",
    "You can use the expression `** (1/2)` to calculate the square root of a number in Python.\n"
   ]
  },
  {
   "cell_type": "code",
   "execution_count": null,
   "id": "248a9dfd",
   "metadata": {},
   "outputs": [],
   "source": [
    "# Answer Here!"
   ]
  },
  {
   "cell_type": "markdown",
   "id": "8d228c53",
   "metadata": {},
   "source": [
    "## 2. Officer Meow: Cat Patrol\n",
    "\n",
    "### Description\n",
    "\n",
    "In this exercise, you will write a Python program that starts with an empty list of cats and then performs a series of operations. You will append new cats to the list, remove bad cats from the list, and finally sort the remaining cats by their tag number. This time, there will be more cats to manage, so the task can only be efficiently solved using a loop.\n",
    "\n",
    "### Requirements:\n",
    "\n",
    "1. **Append**: Start with an empty list of cats and append a list of new cats.\n",
    "2. **Remove**: Remove all the bad cats from the list based on a given list of bad cats.\n",
    "3. **Sort**: Sort the remaining cats by their tag number in ascending order.\n",
    "4. **For Loop**: Use a `for` loop to handle the appending and removing operations, as there will be more cats to deal with!\n",
    "\n",
    "The program must print the updated list after each operation to show the changes.\n",
    "\n",
    "### Initial Lists\n",
    "\n",
    "```python\n",
    "# Start with an empty list of cats\n",
    "cats = []\n",
    "\n",
    "# List of new cats to be added\n",
    "new_cats = ['cat #10', 'cat #3', 'cat #12', 'cat #8', 'cat #15', 'cat #5', 'cat #1']\n",
    "\n",
    "# List of bad cats to be removed\n",
    "bad_cats = ['cat #12', 'cat #5', 'cat #10']\n",
    "```\n",
    "\n",
    "### Sample Output\n",
    "\n",
    "```ascii\n",
    "After appending new cats: ['cat #10', 'cat #3', 'cat #12', 'cat #8', 'cat #15', 'cat #5', 'cat #1']\n",
    "After removing bad cats: ['cat #3', 'cat #8', 'cat #15', 'cat #1']\n",
    "After sorting cats: ['cat #1', 'cat #3', 'cat #8', 'cat #15']\n",
    "```\n"
   ]
  },
  {
   "cell_type": "code",
   "execution_count": null,
   "id": "77dc18c0",
   "metadata": {},
   "outputs": [],
   "source": [
    "# Answer Here!\n",
    "\n",
    "# Start with an empty list of cats\n",
    "cats = []\n",
    "\n",
    "# List of new cats to be added\n",
    "new_cats = ['cat #10', 'cat #3', 'cat #12', 'cat #8', 'cat #15', 'cat #5', 'cat #1']\n",
    "\n",
    "# List of bad cats to be removed\n",
    "bad_cats = ['cat #12', 'cat #5', 'cat #10']"
   ]
  },
  {
   "cell_type": "markdown",
   "id": "81873e9a",
   "metadata": {},
   "source": [
    "## Submission\n",
    "\n",
    "Remember to submit your assignment at [**Google Drive**](https://drive.google.com/drive/folders/1r-KcMK5K-gwQklVu7e33sAiFOadtNBLD?usp=sharing). \n",
    "\n",
    "Only the `.ipynb` file should be submitted, and make sure to name your file in the following format:\n",
    "- For **Assignment 1**, use `name_assg1.ipynb`, e.g. `henry_assg1.ipynb`\n",
    "- For **Assignment 2**, use `name_assg2.ipynb`\n",
    "\n",
    "#### Note: Make sure you collect discriptions and answers of all problems into a single .ipynb file."
   ]
  }
 ],
 "metadata": {
  "language_info": {
   "name": "python"
  }
 },
 "nbformat": 4,
 "nbformat_minor": 5
}
