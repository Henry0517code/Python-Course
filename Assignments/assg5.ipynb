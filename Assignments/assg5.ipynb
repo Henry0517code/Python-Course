{
 "cells": [
  {
   "cell_type": "markdown",
   "metadata": {},
   "source": [
    "## 1. Space Zoo Keeper\n",
    "\n",
    "### Description\n",
    "\n",
    "Welcome back to the **Galactic Space Zoo**! As the space zoo keeper, your job is to monitor and manage a multi-layered habitat structure. Each habitat contains a variety of alien animals, their energy levels, and specific habitat conditions. Your task is to check and modify the conditions of each habitat based on the total energy levels of the animals in each habitat and specific rules tied to the habitat's climate.\n",
    "\n",
    "The zoo is represented by a **list of habitats**, where each habitat is a tuple containing:\n",
    "- A list of alien animals (by species name).\n",
    "- A list of their corresponding energy levels.\n",
    "- A string representing the habitat's climate condition (`\"hot\"`, `\"cold\"`, or `\"neutral\"`).\n",
    "\n",
    "### Requirements:\n",
    "\n",
    "1. **Indexing**: Use indexing to access and check the animals, their energy levels, and habitat conditions.\n",
    "2. **If-Else Conditions with Boolean Algebra**: Based on the **total energy** of the animals in each habitat, perform the following actions:\n",
    "   - If the **total energy** of animals in a habitat is below 100 **and** the habitat climate is `\"cold\"`, change the climate to `\"neutral\"` and add 10 to each animal’s energy level.\n",
    "   - If the **total energy** of animals in a habitat is above 150 **and** the habitat climate is `\"hot\"`, change the climate to `\"cold\"` and reduce each animal’s energy level by 15.\n",
    "   - Otherwise, leave the habitat climate and energy levels unchanged.\n",
    "\n",
    "3. Print the updated information for each habitat after performing the operations.\n",
    "\n",
    "### Sample Input\n",
    "\n",
    "```python\n",
    "# Galactic Space Zoo structure: list of habitats\n",
    "zoo = [\n",
    "    ([\"Zorgon\", \"Meep\"], [25, 20], \"cold\"),           # Habitat 1\n",
    "    ([\"Flobber\", \"Twitch\"], [85, 90], \"hot\"),         # Habitat 2\n",
    "    ([\"Gloop\", \"Bloop\"], [40, 45], \"neutral\"),        # Habitat 3\n",
    "    ([\"Zlorg\", \"Yip\", \"Blurp\"], [10, 12, 15], \"cold\") # Habitat 4\n",
    "]\n",
    "```\n",
    "\n",
    "### Sample Output\n",
    "\n",
    "```ascii\n",
    "Habitat 1: Animals - ['Zorgon', 'Meep'], Energy Levels - [35, 30], Climate - neutral\n",
    "Habitat 2: Animals - ['Flobber', 'Twitch'], Energy Levels - [70, 75], Climate - cold\n",
    "Habitat 3: Animals - ['Gloop', 'Bloop'], Energy Levels - [40, 45], Climate - neutral\n",
    "Habitat 4: Animals - ['Zlorg', 'Yip', 'Blurp'], Energy Levels - [20, 22, 25], Climate - neutral\n",
    "```\n",
    "\n",
    "### Hints\n",
    "\n",
    "1. **Accessing Elements**: Use indexing to access each element in the `zoo` list, each of which is a tuple containing a list of animals, a list of energy levels, and a climate string.\n",
    "   - Example: `zoo[0][1]` gives the energy levels of animals in the first habitat.\n",
    "\n",
    "2. **Calculating Total Energy**: Use `sum()` on the list of energy levels to get the total energy for each habitat.\n",
    "   - Example: `sum(zoo[0][1])` calculates the total energy for the animals in the first habitat.\n",
    "\n",
    "3. **Updating Values**: Modify elements within the tuples and lists as required by conditions. Remember to check the current climate and use the total energy level to determine whether to adjust the climate and energy levels.\n",
    "\n",
    "4. Try breaking down the problem into smaller steps and testing each step individually."
   ]
  },
  {
   "cell_type": "code",
   "execution_count": null,
   "metadata": {},
   "outputs": [],
   "source": [
    "# Answer Here!\n",
    "zoo = [\n",
    "    ([\"Zorgon\", \"Meep\"], [25, 20], \"cold\"),           # Habitat 1\n",
    "    ([\"Flobber\", \"Twitch\"], [85, 90], \"hot\"),         # Habitat 2\n",
    "    ([\"Gloop\", \"Bloop\"], [40, 45], \"neutral\"),        # Habitat 3\n",
    "    ([\"Zlorg\", \"Yip\", \"Blurp\"], [10, 12, 15], \"cold\") # Habitat 4\n",
    "]"
   ]
  },
  {
   "cell_type": "markdown",
   "metadata": {},
   "source": [
    "## Submission\n",
    "\n",
    "Remember to submit your assignment at [**Google Drive**](https://drive.google.com/drive/folders/1r-KcMK5K-gwQklVu7e33sAiFOadtNBLD?usp=sharing). \n",
    "\n",
    "Only the `.ipynb` file should be submitted, and make sure to name your file in the following format:\n",
    "- For **Assignment 1**, use `name_assg1.ipynb`, e.g. `henry_assg1.ipynb`\n",
    "- For **Assignment 2**, use `name_assg2.ipynb`\n",
    "\n",
    "#### Note: Make sure you collect discriptions and answers of all problems into a single .ipynb file."
   ]
  }
 ],
 "metadata": {
  "language_info": {
   "name": "python"
  }
 },
 "nbformat": 4,
 "nbformat_minor": 2
}
