{
 "cells": [
  {
   "cell_type": "markdown",
   "id": "3c4c2cfc",
   "metadata": {},
   "source": [
    "## 1. Movie Night Organizer\n",
    "\n",
    "### Description\n",
    "\n",
    "You are tasked with organizing a **Movie Night** for a group of friends. Each friend has their own list of favorite movies, and their preferences are stored in a dictionary. Your program will help recommend the **most liked movie** for the group.\n",
    "\n",
    "| Friend   | Favorite Movies                      |\n",
    "|----------|--------------------------------------|\n",
    "| Alice    | Inception, Titanic, Avatar           |\n",
    "| Bob      | Avatar, The Matrix, Titanic          |\n",
    "| Charlie  | Inception, Avatar, The Lion King     |\n",
    "\n",
    "Your job is to identify the **most liked movie** (the movie mentioned the most across all friends).\n",
    "\n",
    "### Requirements:\n",
    "\n",
    "1. Use a **dictionary of lists** where the keys are friends' names and the values are their favorite movies.\n",
    "2. Use a **for loop** to count how many times each movie is mentioned.\n",
    "3. Display the most liked movie based on the counts.\n",
    "\n",
    "### Sample Output\n",
    "\n",
    "```ascii\n",
    "Most liked movie: Avatar\n",
    "```\n",
    "\n",
    "### Hints:\n",
    "\n",
    "1. **Count Movie Mentions**:\n",
    "   Use a dictionary to track how many times each movie is mentioned. Example:\n",
    "   ```python\n",
    "   counts['Avatar'] = counts.get('Avatar', 0) + 1\n",
    "   ```\n",
    "\n",
    "2. **Find the Most Liked Movie**:\n",
    "   Keep track of the most liked movie and its count. Update if necessary. Example:\n",
    "   ```python\n",
    "   most_liked = \"\"\n",
    "   max_count = 0\n",
    "   for movie, count in friends_movies.values():\n",
    "      if ...\n",
    "   ``` "
   ]
  },
  {
   "cell_type": "code",
   "execution_count": 1,
   "id": "0f9161c6",
   "metadata": {},
   "outputs": [],
   "source": [
    "# Answer Here!"
   ]
  },
  {
   "cell_type": "markdown",
   "id": "fb99f854",
   "metadata": {},
   "source": [
    "## 2. Find Next Leap Years\n",
    "\n",
    "### Description\n",
    "\n",
    "Your task is to write a program that determines the next **N leap years** starting from a given year. The user will input the starting year and the number of leap years they want to find.\n",
    "\n",
    "The program will:\n",
    "1. Use a **while loop** to iterate through the years starting from the given year.\n",
    "2. Use the leap year classification logic to check if each year is a leap year.\n",
    "3. Stop once the program has found **N leap years** and print them.\n",
    "\n",
    "### Requirements\n",
    "\n",
    "1. Ask the user to input:\n",
    "   - A **starting year**.\n",
    "   - The number of leap years (**N**) they want to find.\n",
    "2. Use a **while loop** to find the next `N` leap years.\n",
    "3. Print the list of the next `N` leap years.\n",
    "\n",
    "### Sample Input and Output\n",
    "\n",
    "#### Input:\n",
    "```ascii\n",
    "Enter the starting year: 2023\n",
    "Enter the number of leap years to find: 5\n",
    "```\n",
    "\n",
    "#### Output:\n",
    "```ascii\n",
    "The next 5 leap years are: [2024, 2028, 2032, 2036, 2040]\n",
    "```\n",
    "\n",
    "### Hints\n",
    "\n",
    "1. Store leap years in a list (initialized to be empty) and append each leap year to the list.\n",
    "\n",
    "2. **Stopping the Loop**:\n",
    "   - Use `len(leap_years) < num_leap_years` as the condition to ensure the program stops once the required number of leap years is found.\n",
    "\n",
    "3. **Incrementing the Year**:\n",
    "   - Start from the given year and increment it by 1 in each iteration:\n",
    "     ```python\n",
    "     current_year += 1\n",
    "     ```"
   ]
  },
  {
   "cell_type": "code",
   "execution_count": 2,
   "id": "37c6e9a7",
   "metadata": {},
   "outputs": [
    {
     "data": {
      "text/html": [
       "<img src=\"https://mermaid.ink/img/CmdyYXBoIExSCiAgICBBW0lucHV0IFllYXJdIC0tPiBCe0RpdmlzaWJsZSBieSA0P30KICAgIEIgLS0+fE5vfCBDW05vdCBhIExlYXAgWWVhcl0KICAgIEIgLS0+fFllc3wgRHtEaXZpc2libGUgYnkgMTAwP30KICAgIEQgLS0+fE5vfCBFW0xlYXAgWWVhcl0KICAgIEQgLS0+fFllc3wgRntEaXZpc2libGUgYnkgNDAwP30KICAgIEYgLS0+fFllc3wgRQogICAgRiAtLT58Tm98IEMK\"/>"
      ],
      "text/plain": [
       "<IPython.core.display.Image object>"
      ]
     },
     "metadata": {},
     "output_type": "display_data"
    }
   ],
   "source": [
    "# Hint Diagram\n",
    "\n",
    "import base64\n",
    "from IPython.display import Image, display\n",
    "\n",
    "def mm(graph):\n",
    "  graphbytes = graph.encode(\"ascii\")\n",
    "  base64_bytes = base64.b64encode(graphbytes)\n",
    "  base64_string = base64_bytes.decode(\"ascii\")\n",
    "  display(\n",
    "    Image(\n",
    "      url=\"https://mermaid.ink/img/\"\n",
    "      + base64_string\n",
    "    )\n",
    "  )\n",
    "\n",
    "mm(\"\"\"\n",
    "graph LR\n",
    "    A[Input Year] --> B{Divisible by 4?}\n",
    "    B -->|No| C[Not a Leap Year]\n",
    "    B -->|Yes| D{Divisible by 100?}\n",
    "    D -->|No| E[Leap Year]\n",
    "    D -->|Yes| F{Divisible by 400?}\n",
    "    F -->|Yes| E\n",
    "    F -->|No| C\n",
    "\"\"\")"
   ]
  },
  {
   "cell_type": "code",
   "execution_count": 3,
   "id": "206f29f6",
   "metadata": {},
   "outputs": [],
   "source": [
    "# Answer Here!"
   ]
  },
  {
   "cell_type": "markdown",
   "id": "7eb6163e",
   "metadata": {},
   "source": [
    "## Submission\n",
    "\n",
    "Remember to submit your assignment at [**Google Drive**](https://drive.google.com/drive/folders/1r-KcMK5K-gwQklVu7e33sAiFOadtNBLD?usp=sharing). \n",
    "\n",
    "Only the `.ipynb` file should be submitted, and make sure to name your file in the following format:\n",
    "- For **Assignment 1**, use `name_assg1.ipynb`, e.g. `henry_assg1.ipynb`\n",
    "- For **Assignment 2**, use `name_assg2.ipynb`\n",
    "\n",
    "#### Note: Make sure you collect discriptions and answers of all problems into a single .ipynb file."
   ]
  }
 ],
 "metadata": {
  "kernelspec": {
   "display_name": "base",
   "language": "python",
   "name": "python3"
  },
  "language_info": {
   "codemirror_mode": {
    "name": "ipython",
    "version": 3
   },
   "file_extension": ".py",
   "mimetype": "text/x-python",
   "name": "python",
   "nbconvert_exporter": "python",
   "pygments_lexer": "ipython3",
   "version": "3.12.4"
  }
 },
 "nbformat": 4,
 "nbformat_minor": 5
}
