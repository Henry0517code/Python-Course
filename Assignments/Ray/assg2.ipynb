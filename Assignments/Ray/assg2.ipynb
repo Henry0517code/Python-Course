{
 "cells": [
  {
   "cell_type": "markdown",
   "metadata": {},
   "source": [
    "## 1. Space Zoo Keeper\n",
    "\n",
    "### Description\n",
    "\n",
    "Welcome back to the **Galactic Space Zoo**! As the space zoo keeper, your job is to monitor and manage a multi-layered habitat structure. Each habitat contains a variety of alien animals, their energy levels, and specific habitat conditions. Your task is to check and modify the conditions of each habitat based on the total energy levels of the animals in each habitat and specific rules tied to the habitat's climate.\n",
    "\n",
    "The zoo is represented by a **list of habitats**, where each habitat is a tuple containing:\n",
    "- A list of alien animals (by species name).\n",
    "- A list of their corresponding energy levels.\n",
    "- A string representing the habitat's climate condition (`\"hot\"`, `\"cold\"`, or `\"neutral\"`).\n",
    "\n",
    "### Requirements:\n",
    "\n",
    "1. **Indexing**: Use indexing to access and check the animals, their energy levels, and habitat conditions.\n",
    "2. **If-Else Conditions with Boolean Algebra**: Based on the **total energy** of the animals in each habitat, perform the following actions:\n",
    "   - If the **total energy** of animals in a habitat is below 100 **and** the habitat climate is `\"cold\"`, change the climate to `\"neutral\"` and add 10 to each animal’s energy level.\n",
    "   - If the **total energy** of animals in a habitat is above 150 **and** the habitat climate is `\"hot\"`, change the climate to `\"cold\"` and reduce each animal’s energy level by 15.\n",
    "   - Otherwise, leave the habitat climate and energy levels unchanged.\n",
    "\n",
    "3. Print the updated information for each habitat after performing the operations.\n",
    "\n",
    "### Sample Input\n",
    "\n",
    "```python\n",
    "# Galactic Space Zoo structure: list of habitats\n",
    "zoo = [\n",
    "    ([\"Zorgon\", \"Meep\"], [25, 20], \"cold\"),           # Habitat 1\n",
    "    ([\"Flobber\", \"Twitch\"], [85, 90], \"hot\"),         # Habitat 2\n",
    "    ([\"Gloop\", \"Bloop\"], [40, 45], \"neutral\"),        # Habitat 3\n",
    "    ([\"Zlorg\", \"Yip\", \"Blurp\"], [10, 12, 15], \"cold\") # Habitat 4\n",
    "]\n",
    "```\n",
    "\n",
    "### Sample Output\n",
    "\n",
    "```ascii\n",
    "Habitat 1: Animals - ['Zorgon', 'Meep'], Energy Levels - [35, 30], Climate - neutral\n",
    "Habitat 2: Animals - ['Flobber', 'Twitch'], Energy Levels - [70, 75], Climate - cold\n",
    "Habitat 3: Animals - ['Gloop', 'Bloop'], Energy Levels - [40, 45], Climate - neutral\n",
    "Habitat 4: Animals - ['Zlorg', 'Yip', 'Blurp'], Energy Levels - [20, 22, 25], Climate - neutral\n",
    "```\n",
    "\n",
    "### Hints\n",
    "\n",
    "1. **Accessing Elements**: Use indexing to access each element in the `zoo` list, each of which is a tuple containing a list of animals, a list of energy levels, and a climate string.\n",
    "   - Example: `zoo[0][1]` gives the energy levels of animals in the first habitat.\n",
    "\n",
    "2. **Calculating Total Energy**: Use `sum()` on the list of energy levels to get the total energy for each habitat.\n",
    "   - Example: `sum(zoo[0][1])` calculates the total energy for the animals in the first habitat.\n",
    "\n",
    "3. **Updating Values**: Modify elements within the tuples and lists as required by conditions. Remember to check the current climate and use the total energy level to determine whether to adjust the climate and energy levels.\n",
    "\n",
    "4. Try breaking down the problem into smaller steps and testing each step individually."
   ]
  },
  {
   "cell_type": "code",
   "execution_count": null,
   "metadata": {},
   "outputs": [],
   "source": [
    "# Answer Here!\n",
    "\n",
    "zoo = [\n",
    "    [[\"Zorgon\", \"Meep\"], [25, 20], \"cold\"],           # Habitat 1\n",
    "    [[\"Flobber\", \"Twitch\"], [85, 90], \"hot\"],         # Habitat 2\n",
    "    [[\"Gloop\", \"Bloop\"], [40, 45], \"neutral\"],        # Habitat 3\n",
    "    [[\"Zlorg\", \"Yip\", \"Blurp\"], [10, 12, 15], \"cold\"] # Habitat 4\n",
    "]\n",
    "\n",
    "# Nested data structure: 要一直很確定手上的是什麼\n",
    "\n",
    "for habitat in zoo:\n",
    "    # Check total energy & climate type\n",
    "    if sum(habitat[1]) < 100 and habitat[2] == \"cold\":\n",
    "        # 1. Change climate to \"neutral\"\n",
    "        habitat[2] = \"neutral\"\n",
    "        # 2. Add 10 to each energy value\n",
    "        for i in range(len(habitat[1])):\n",
    "            habitat[1][i] += 10"
   ]
  },
  {
   "cell_type": "code",
   "execution_count": null,
   "metadata": {},
   "outputs": [
    {
     "data": {
      "text/plain": [
       "[[['Zorgon', 'Meep'], [35, 30], 'neutral'],\n",
       " [['Flobber', 'Twitch'], [85, 90], 'hot'],\n",
       " [['Gloop', 'Bloop'], [40, 45], 'neutral'],\n",
       " [['Zlorg', 'Yip', 'Blurp'], [20, 22, 25], 'neutral']]"
      ]
     },
     "execution_count": 16,
     "metadata": {},
     "output_type": "execute_result"
    }
   ],
   "source": [
    "# habitat[1] is a list of integers\n",
    "# engery is a copy of each integer in habitat[1]\n",
    "# it's not a reference to the original list \n",
    "# (modification won't affect the original list)\n",
    "for energy in habitat[1]:\n",
    "    energy += 10\n",
    "\n",
    "# solution: index\n",
    "\n",
    "# habitat is a container type\n",
    "# habitat is a reference to the original list\n",
    "# modification will affect the original list\n",
    "for habitat in zoo:\n",
    "    habitat[2] = \"neutral\""
   ]
  },
  {
   "cell_type": "markdown",
   "metadata": {},
   "source": [
    "## 2. Pizza Topping Calculator\n",
    "\n",
    "### Description\n",
    "\n",
    "You are tasked with designing a program to calculate the total price of a pizza based on selected toppings. Each topping has a specific price, and the customer needs to choose **three toppings**. The program should output the total price of the pizza after the user has made their selections.\n",
    "\n",
    "First, construct a dictionary to store the topping names and their corresponding prices based on the table below:\n",
    "\n",
    "| Topping        | Price ($) |\n",
    "|----------------|-----------|\n",
    "| Pepperoni      | 2         |\n",
    "| Mushrooms      | 1.5       |\n",
    "| Onions         | 1         |\n",
    "| Sausage        | 2.5       |\n",
    "| Bacon          | 3         |\n",
    "| Extra Cheese   | 1.5       |\n",
    "\n",
    "### Requirements:\n",
    "\n",
    "1. **Construct the Dictionary**: Use the table above to create a dictionary where the keys are topping names and the values are their prices.\n",
    "2. **Ask for Toppings**: Use `input()` to ask the user for three toppings, one at a time.\n",
    "3. **Calculate Total**: Calculate the total price based on the valid toppings selected.\n",
    "4. **Output the Total**: Print the selected toppings, their prices, and the total price.\n",
    "\n",
    "### Sample Input\n",
    "\n",
    "```ascii\n",
    "What topping would you like? pepperoni\n",
    "What topping would you like? mushrooms\n",
    "What topping would you like? onions\n",
    "```\n",
    "\n",
    "### Sample Output\n",
    "\n",
    "```ascii\n",
    "Total price: $4.50\n",
    "```"
   ]
  },
  {
   "cell_type": "code",
   "execution_count": 2,
   "metadata": {},
   "outputs": [],
   "source": [
    "# Answer Here!"
   ]
  },
  {
   "cell_type": "markdown",
   "metadata": {},
   "source": [
    "## Submission\n",
    "\n",
    "Remember to submit your assignment at [**Google Drive**](https://drive.google.com/drive/folders/1r-KcMK5K-gwQklVu7e33sAiFOadtNBLD?usp=sharing). \n",
    "\n",
    "Only the `.ipynb` file should be submitted, and make sure to name your file in the following format:\n",
    "- For **Assignment 1**, use `name_assg1.ipynb`, e.g. `henry_assg1.ipynb`\n",
    "- For **Assignment 2**, use `name_assg2.ipynb`\n",
    "\n",
    "#### Note: Make sure you collect discriptions and answers of all problems into a single .ipynb file."
   ]
  }
 ],
 "metadata": {
  "kernelspec": {
   "display_name": "PythonCourse",
   "language": "python",
   "name": "python3"
  },
  "language_info": {
   "codemirror_mode": {
    "name": "ipython",
    "version": 3
   },
   "file_extension": ".py",
   "mimetype": "text/x-python",
   "name": "python",
   "nbconvert_exporter": "python",
   "pygments_lexer": "ipython3",
   "version": "3.12.7"
  }
 },
 "nbformat": 4,
 "nbformat_minor": 2
}
