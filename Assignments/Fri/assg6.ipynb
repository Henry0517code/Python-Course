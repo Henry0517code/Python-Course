{
 "cells": [
  {
   "cell_type": "markdown",
   "metadata": {},
   "source": [
    "## 1. Pizza Topping Calculator\n",
    "\n",
    "### Description\n",
    "\n",
    "You are tasked with designing a program to calculate the total price of a pizza based on selected toppings. Each topping has a specific price, and the customer needs to choose **three toppings**. The program should output the total price of the pizza after the user has made their selections.\n",
    "\n",
    "First, construct a dictionary to store the topping names and their corresponding prices based on the table below:\n",
    "\n",
    "| Topping        | Price ($) |\n",
    "|----------------|-----------|\n",
    "| Pepperoni      | 2         |\n",
    "| Mushrooms      | 1.5       |\n",
    "| Onions         | 1         |\n",
    "| Sausage        | 2.5       |\n",
    "| Bacon          | 3         |\n",
    "| Extra Cheese   | 1.5       |\n",
    "\n",
    "### Requirements:\n",
    "\n",
    "1. **Construct the Dictionary**: Use the table above to create a dictionary where the keys are topping names and the values are their prices.\n",
    "2. **Ask for Toppings**: Use `input()` to ask the user for three toppings, one at a time.\n",
    "3. **Calculate Total**: Calculate the total price based on the valid toppings selected.\n",
    "4. **Output the Total**: Print the selected toppings, their prices, and the total price.\n",
    "\n",
    "### Sample Input\n",
    "\n",
    "```ascii\n",
    "What topping would you like? pepperoni\n",
    "What topping would you like? mushrooms\n",
    "What topping would you like? onions\n",
    "```\n",
    "\n",
    "### Sample Output\n",
    "\n",
    "```ascii\n",
    "Total price: $4.50\n",
    "```"
   ]
  },
  {
   "cell_type": "code",
   "execution_count": null,
   "metadata": {},
   "outputs": [],
   "source": [
    "# Answer Here!"
   ]
  },
  {
   "cell_type": "markdown",
   "metadata": {},
   "source": [
    "## 2. Grocery Store Checkout\n",
    "\n",
    "### Description\n",
    "\n",
    "You are tasked with designing a simple grocery store checkout system. Each item in the store has a name, price, and stock quantity. Customers will input the items they want to buy along with the quantities, and the program will calculate the total cost of their purchase. \n",
    "\n",
    "The customer can only purchase up to **three items** in one transaction.\n",
    "\n",
    "The store's inventory is given in the table below:\n",
    "\n",
    "| Item    | Price ($) | Stock |\n",
    "|---------|-----------|-------|\n",
    "| Apple   | 2         | 10    |\n",
    "| Banana  | 1         | 5     |\n",
    "| Orange  | 3         | 8     |\n",
    "| Grape   | 4         | 3     |\n",
    "\n",
    "### Requirements:\n",
    "\n",
    "1. Create two dictionaries, one for prices and one for stocks, based on the table above.\n",
    "2. Ask the customer for three items they want to purchase and the quantities, one at a time.\n",
    "3. Check if the requested quantity is available:\n",
    "   - If enough stock is available, calculate the cost and deduct the stock.\n",
    "   - If not, inform the customer that the item is out of stock or the quantity is insufficient.\n",
    "4. Display the total cost of the purchase at the end.\n",
    "\n",
    "### Sample Input\n",
    "\n",
    "```ascii\n",
    "What do you want to buy? apple\n",
    "How many apples do you want? 3\n",
    "\n",
    "What do you want to buy? banana\n",
    "How many bananas do you want? 6\n",
    "\n",
    "What do you want to buy? orange\n",
    "How many oranges do you want? 2\n",
    "```\n",
    "\n",
    "### Sample Output\n",
    "\n",
    "```ascii\n",
    "You bought 3 apples for $6.\n",
    "Sorry, we don't have enough bananas. Only 5 left.\n",
    "You bought 2 oranges for $6.\n",
    "\n",
    "Total cost: $12\n",
    "```\n",
    "\n",
    "### Hints\n",
    "\n",
    "1. Use dictionary indexing to access the price and stock of the requested item:\n",
    "   - Example: `prices[\"apple\"]` gets the price of an apple, and `stocks[\"apple\"]` gets the stock.\n",
    "2. Check stock availability using an `if` statement. For example: `if stocks[item] < asked_quantity:`.\n",
    "3. Keep a running total for the cost of all purchased items and print it at the end.\n",
    "4. Remember to subtract the stock of the purchased item from the inventory with `stocks[item] = stocks[item] - asked_quantity`."
   ]
  },
  {
   "cell_type": "code",
   "execution_count": null,
   "metadata": {},
   "outputs": [],
   "source": [
    "# Answer Here!"
   ]
  },
  {
   "cell_type": "markdown",
   "metadata": {},
   "source": [
    "## Submission\n",
    "\n",
    "Remember to submit your assignment at [**Google Drive**](https://drive.google.com/drive/folders/1r-KcMK5K-gwQklVu7e33sAiFOadtNBLD?usp=sharing). \n",
    "\n",
    "Only the `.ipynb` file should be submitted, and make sure to name your file in the following format:\n",
    "- For **Assignment 1**, use `name_assg1.ipynb`, e.g. `henry_assg1.ipynb`\n",
    "- For **Assignment 2**, use `name_assg2.ipynb`\n",
    "\n",
    "#### Note: Make sure you collect discriptions and answers of all problems into a single .ipynb file."
   ]
  }
 ],
 "metadata": {
  "language_info": {
   "name": "python"
  }
 },
 "nbformat": 4,
 "nbformat_minor": 2
}
