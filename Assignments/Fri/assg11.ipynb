{
 "cells": [
  {
   "cell_type": "markdown",
   "metadata": {},
   "source": [
    "## 1. Number Guessing Game PLUS\n",
    "\n",
    "### Description\n",
    "\n",
    "You are tasked with designing a **Number Guessing Game** where the program randomly selects a number within a range, and the user tries to guess it. The program will:\n",
    "1. Use a **flag** variable to control the game loop.\n",
    "2. Keep track of the range of possible numbers and provide hints to the user.\n",
    "3. Allow the user to guess until they find the correct number, updating the hint range after each guess.\n",
    "\n",
    "### Requirements\n",
    "\n",
    "1. Use a **while loop** controlled by a flag variable (`game_over`) to allow the user to guess repeatedly.\n",
    "2. After each guess:\n",
    "   - If the guess is too low, update the lower bound of the range.\n",
    "   - If the guess is too high, update the upper bound of the range.\n",
    "3. End the game when the user guesses the correct number and print the total number of attempts.\n",
    "\n",
    "### Sample Interaction\n",
    "\n",
    "```ascii\n",
    "Welcome to the Number Guessing Game!\n",
    "\n",
    "Guess a number between 1 and 100: 50\n",
    "Too high! Try again. The number is between 1 and 50.\n",
    "\n",
    "Guess a number between 1 and 50: 25\n",
    "Too low! Try again. The number is between 25 and 50.\n",
    "\n",
    "Guess a number between 25 and 50: 30\n",
    "Too high! Try again. The number is between 25 and 30.\n",
    "\n",
    "Guess a number between 25 and 30: 27\n",
    "Congratulations! 27 is the correct number. You guessed it in 4 attempts!\n",
    "```\n",
    "\n",
    "### Hints\n",
    "\n",
    "1. **Using the Flag**:\n",
    "   - Use a boolean variable (`game_over`) to control the loop:\n",
    "     ```python\n",
    "     while not game_over:\n",
    "         ...\n",
    "         if condition_to_end_game:\n",
    "             game_over = True\n",
    "     ```\n",
    "\n",
    "2. **Updating the Hint Range**:\n",
    "   - Adjust the lower or upper bounds of the range based on the guess:\n",
    "     ```python\n",
    "     if guess < magic_number:\n",
    "         low = max(low, guess)\n",
    "     elif guess > magic_number:\n",
    "         high = min(high, guess)\n",
    "     ```\n",
    "\n",
    "3. **Counting Attempts**:\n",
    "   - Use a counter variable (`attempts`) and increment it with each guess:\n",
    "     ```python\n",
    "     attempts += 1\n",
    "     ```"
   ]
  },
  {
   "cell_type": "code",
   "execution_count": null,
   "metadata": {},
   "outputs": [
    {
     "data": {
      "text/html": [
       "<img src=\"https://mermaid.ink/img/CmdyYXBoIExSCiAgICBBWyJTdGFydCBHYW1lIl0gLS0+IEJbIkdlbmVyYXRlIFJhbmRvbSBOdW1iZXIiXQogICAgQiAtLT4gQ1siSW5pdGlhbGl6ZSBWYXJpYWJsZXM6CmxvdyA9IDEKaGlnaCA9IDEwMAphdHRlbXB0cyA9IDAKZ2FtZV9vdmVyID0gRmFsc2UiXQogICAgQyAtLT4gRHsiR2V0IFVzZXIgR3Vlc3MifQogICAgRCAtLT4gRXsiSXMgR3Vlc3MgQ29ycmVjdD8ifQogICAgRSAtLSBZZXMgLS0+IEZbIkRpc3BsYXkgV2luIE1lc3NhZ2UKU2hvdyBBdHRlbXB0cyJdCiAgICBFIC0tIE5vIC0tPiBHeyJJcyBHdWVzcyBUb28gTG93PyJ9CiAgICBHIC0tIFllcyAtLT4gSFsiVXBkYXRlIExvd2VyIEJvdW5kCmxvdyA9IGd1ZXNzIl0KICAgIEcgLS0gTm8gLS0+IElbIlVwZGF0ZSBVcHBlciBCb3VuZApoaWdoID0gZ3Vlc3MiXQogICAgSCAtLT4gSlsiSW5jcmVtZW50IEF0dGVtcHRzIl0KICAgIEkgLS0+IEoKICAgIEogLS0+IEQKICAgIEYgLS0+IEtbIkVuZCBHYW1lIl0K\"/>"
      ],
      "text/plain": [
       "<IPython.core.display.Image object>"
      ]
     },
     "metadata": {},
     "output_type": "display_data"
    }
   ],
   "source": [
    "# Hint Diagram\n",
    "\n",
    "import base64\n",
    "from IPython.display import Image, display\n",
    "\n",
    "def mm(graph):\n",
    "  graphbytes = graph.encode(\"ascii\")\n",
    "  base64_bytes = base64.b64encode(graphbytes)\n",
    "  base64_string = base64_bytes.decode(\"ascii\")\n",
    "  display(\n",
    "    Image(\n",
    "      url=\"https://mermaid.ink/img/\"\n",
    "      + base64_string\n",
    "    )\n",
    "  )\n",
    "\n",
    "mm(\"\"\"\n",
    "graph LR\n",
    "    A[\"Start Game\"] --> B[\"Generate Random Number\"]\n",
    "    B --> C[\"Initialize Variables:\\nlow = 1\\nhigh = 100\\nattempts = 0\\ngame_over = False\"]\n",
    "    C --> D{\"Get User Guess\"}\n",
    "    D --> E{\"Is Guess Correct?\"}\n",
    "    E -- Yes --> F[\"Display Win Message\\nShow Attempts\"]\n",
    "    E -- No --> G{\"Is Guess Too Low?\"}\n",
    "    G -- Yes --> H[\"Update Lower Bound\\nlow = guess\"]\n",
    "    G -- No --> I[\"Update Upper Bound\\nhigh = guess\"]\n",
    "    H --> J[\"Increment Attempts\"]\n",
    "    I --> J\n",
    "    J --> D\n",
    "    F --> K[\"End Game\"]\n",
    "\"\"\")"
   ]
  },
  {
   "cell_type": "code",
   "execution_count": null,
   "metadata": {},
   "outputs": [],
   "source": [
    "import random\n",
    "\n",
    "# Generate a random number (Keep it untouched)\n",
    "magic_number = random.randint(1, 100)\n",
    "\n",
    "# Answer Here!"
   ]
  }
 ],
 "metadata": {
  "language_info": {
   "name": "python"
  }
 },
 "nbformat": 4,
 "nbformat_minor": 2
}
