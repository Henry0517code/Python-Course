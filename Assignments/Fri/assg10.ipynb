{
 "cells": [
  {
   "cell_type": "markdown",
   "metadata": {},
   "source": [
    "## 1. Countdown Timer\n",
    "\n",
    "### Description\n",
    "\n",
    "You are tasked with designing a program that simulates a simple **countdown timer**. The program will:\n",
    "1. Ask the user to input a number to start the countdown.\n",
    "2. Use a **while loop** to print each number in the countdown.\n",
    "3. End the countdown when the number reaches zero, printing `\"Liftoff!\"`.\n",
    "\n",
    "### Requirements\n",
    "\n",
    "1. Use `input()` to ask the user for the starting number.\n",
    "2. Use a **while loop** to repeatedly decrement the number.\n",
    "3. Print each number in the countdown.\n",
    "4. Stop the loop and print `\"Liftoff!\"` when the countdown reaches zero.\n",
    "\n",
    "### Sample Interaction\n",
    "\n",
    "```ascii\n",
    "Enter the starting number for the countdown: 5\n",
    "5\n",
    "4\n",
    "3\n",
    "2\n",
    "1\n",
    "Liftoff!\n",
    "```"
   ]
  },
  {
   "cell_type": "code",
   "execution_count": null,
   "metadata": {},
   "outputs": [],
   "source": [
    "# Answer Here!"
   ]
  },
  {
   "cell_type": "markdown",
   "metadata": {},
   "source": [
    "## 2. Number Guessing Game\n",
    "\n",
    "### Description\n",
    "\n",
    "Design a program where the user tries to guess a **magic number**. The program will:\n",
    "1. Use a **fixed magic number** (e.g., `42`) instead of generating a random number.\n",
    "2. Allow the user to guess repeatedly using a **while loop**.\n",
    "3. End the game when the user guesses the correct number.\n",
    "4. Provide feedback (\"Too high!\" or \"Too low!\") after each guess.\n",
    "\n",
    "### Requirements\n",
    "\n",
    "1. Use a **while loop** to repeatedly ask the user to guess the magic number.\n",
    "2. After each guess:\n",
    "   - If the guess is too low, print `\"Too low! Try again.\"`.\n",
    "   - If the guess is too high, print `\"Too high! Try again.\"`.\n",
    "3. When the user guesses the correct number, print `\"Congratulations! You guessed it!\"` and end the program.\n",
    "\n",
    "### Sample Interaction\n",
    "\n",
    "```ascii\n",
    "Guess the magic number: 30\n",
    "Too low! Try again.\n",
    "\n",
    "Guess the magic number: 50\n",
    "Too high! Try again.\n",
    "\n",
    "Guess the magic number: 42\n",
    "Congratulations! You guessed it!\n",
    "```\n",
    "\n",
    "### Hints\n",
    "\n",
    "1. **Fixed Magic Number**:\n",
    "   - Start with a fixed magic number (`42`) instead of generating it randomly for simplicity.\n",
    "\n",
    "2. **Using the While Loop**:\n",
    "   - Use a flag (`game_over`) to control the loop:\n",
    "     ```python\n",
    "     while ... game_over:\n",
    "         ...\n",
    "     ```\n",
    "\n",
    "3. **Checking the Guess**:\n",
    "   - Use conditional statements to compare the user’s guess with the magic number:\n",
    "     ```python\n",
    "     if guess ... magic_number:\n",
    "         print(\"Too ...\")\n",
    "     elif guess ... magic_number:\n",
    "         print(\"Too ...\")\n",
    "     else:\n",
    "         print(\"Correct!\")\n",
    "         game_over = True\n",
    "     ```"
   ]
  },
  {
   "cell_type": "code",
   "execution_count": null,
   "metadata": {},
   "outputs": [],
   "source": [
    "# Answer Here!"
   ]
  }
 ],
 "metadata": {
  "kernelspec": {
   "display_name": "PythonCourse",
   "language": "python",
   "name": "python3"
  },
  "language_info": {
   "codemirror_mode": {
    "name": "ipython",
    "version": 3
   },
   "file_extension": ".py",
   "mimetype": "text/x-python",
   "name": "python",
   "nbconvert_exporter": "python",
   "pygments_lexer": "ipython3",
   "version": "3.12.7"
  }
 },
 "nbformat": 4,
 "nbformat_minor": 2
}
