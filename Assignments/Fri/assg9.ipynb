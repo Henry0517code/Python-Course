{
 "cells": [
  {
   "cell_type": "markdown",
   "metadata": {},
   "source": [
    "## 1. Leap Year Classifier\n",
    "\n",
    "### Description\n",
    "\n",
    "You are tasked with designing a program to classify a year as either a **leap year** or a **common year**. A leap year is a year that satisfies the following conditions:\n",
    "\n",
    "1. A year is a leap year if it is divisible by 4 **and**:\n",
    "   - Not divisible by 100, **or**\n",
    "   - Divisible by 400.\n",
    "\n",
    "2. Examples:\n",
    "   - 2024 is a leap year (divisible by 4, not by 100)\n",
    "   - 2000 was a leap year (divisible by 400)\n",
    "   - 2100 will not be a leap year (divisible by 100, not by 400)\n",
    "   - 2023 is not a leap year (not divisible by 4)\n",
    "\n",
    "Otherwise, the year is a common year.\n",
    "\n",
    "Your program should:\n",
    "1. Ask the user to input a year.\n",
    "2. Use conditional statements to determine whether the year is a leap year or a common year.\n",
    "3. Print the result.\n",
    "\n",
    "### Requirements\n",
    "\n",
    "1. Use **input()** to get a year from the user.\n",
    "2. Use conditional statements to check for the leap year conditions.\n",
    "3. Print either `\"Leap Year\"` or `\"Common Year\"` based on the result.\n",
    "\n",
    "### Sample Input and Output\n",
    "\n",
    "#### Input:\n",
    "```ascii\n",
    "Enter a year: 2020\n",
    "```\n",
    "\n",
    "#### Output:\n",
    "```ascii\n",
    "2020 is a Leap Year.\n",
    "```"
   ]
  },
  {
   "cell_type": "code",
   "execution_count": 13,
   "metadata": {},
   "outputs": [
    {
     "data": {
      "text/html": [
       "<img src=\"https://mermaid.ink/img/CmdyYXBoIExSCiAgICBBW0lucHV0IFllYXJdIC0tPiBCe0RpdmlzaWJsZSBieSA0P30KICAgIEIgLS0+fE5vfCBDW05vdCBhIExlYXAgWWVhcl0KICAgIEIgLS0+fFllc3wgRHtEaXZpc2libGUgYnkgMTAwP30KICAgIEQgLS0+fE5vfCBFW0xlYXAgWWVhcl0KICAgIEQgLS0+fFllc3wgRntEaXZpc2libGUgYnkgNDAwP30KICAgIEYgLS0+fFllc3wgRQogICAgRiAtLT58Tm98IEMK\"/>"
      ],
      "text/plain": [
       "<IPython.core.display.Image object>"
      ]
     },
     "metadata": {},
     "output_type": "display_data"
    }
   ],
   "source": [
    "# Hint Diagram\n",
    "\n",
    "import base64\n",
    "from IPython.display import Image, display\n",
    "\n",
    "def mm(graph):\n",
    "  graphbytes = graph.encode(\"ascii\")\n",
    "  base64_bytes = base64.b64encode(graphbytes)\n",
    "  base64_string = base64_bytes.decode(\"ascii\")\n",
    "  display(\n",
    "    Image(\n",
    "      url=\"https://mermaid.ink/img/\"\n",
    "      + base64_string\n",
    "    )\n",
    "  )\n",
    "\n",
    "mm(\"\"\"\n",
    "graph LR\n",
    "    A[Input Year] --> B{Divisible by 4?}\n",
    "    B -->|No| C[Not a Leap Year]\n",
    "    B -->|Yes| D{Divisible by 100?}\n",
    "    D -->|No| E[Leap Year]\n",
    "    D -->|Yes| F{Divisible by 400?}\n",
    "    F -->|Yes| E\n",
    "    F -->|No| C\n",
    "\"\"\")"
   ]
  },
  {
   "cell_type": "code",
   "execution_count": null,
   "metadata": {},
   "outputs": [],
   "source": [
    "# Answer Here!"
   ]
  },
  {
   "cell_type": "markdown",
   "metadata": {},
   "source": [
    "## 2. Divisible Numbers Finder\n",
    "\n",
    "### Description\n",
    "\n",
    "You are tasked with designing a program that outputs the first **N numbers** divisible by a given number. The user will input:\n",
    "1. The number to divide by (**divisor**).\n",
    "2. The number of divisible numbers they want to find (**N**).\n",
    "\n",
    "The program will:\n",
    "1. Use a **while loop** to find the first `N` numbers divisible by the divisor.\n",
    "2. Start from 1 and increment numbers until the desired count is reached.\n",
    "3. Output the list of numbers.\n",
    "\n",
    "### Requirements\n",
    "\n",
    "1. Use `input()` to get the divisor and the count (`N`) from the user.\n",
    "2. Use a **while loop** to generate the first `N` numbers divisible by the divisor.\n",
    "3. Store the divisible numbers in a list.\n",
    "4. Print the list of numbers.\n",
    "\n",
    "### Sample Input and Output\n",
    "\n",
    "#### Input:\n",
    "```ascii\n",
    "Enter the number to divide by: 3\n",
    "Enter how many divisible numbers you want: 5\n",
    "```\n",
    "\n",
    "#### Output:\n",
    "```ascii\n",
    "The first 5 numbers divisible by 3 are: [3, 6, 9, 12, 15]\n",
    "```\n",
    "\n",
    "### Hints\n",
    "\n",
    "1. Store divisible numbers in a list (initialized to be empty) and append each number that is divisible by the divisor to the list.\n",
    "\n",
    "2. **Divisibility Check**:\n",
    "   - Use the modulus operator `%` to check if a number is divisible:\n",
    "     ```python\n",
    "     if current_number % divisor == 0:\n",
    "         ...\n",
    "     ```\n",
    "\n",
    "3. **While Loop**:\n",
    "   - Use `while len(divisible_numbers) < n` to ensure the loop runs until the desired number of divisible numbers is found.\n",
    "\n",
    "4. **Incrementing the Number**:\n",
    "   - Increment the number by 1 in each iteration to check the next number:\n",
    "     ```python\n",
    "     current_number += 1\n",
    "     ```\n"
   ]
  },
  {
   "cell_type": "code",
   "execution_count": null,
   "metadata": {},
   "outputs": [],
   "source": [
    "# Answer Here!"
   ]
  },
  {
   "cell_type": "markdown",
   "metadata": {},
   "source": [
    "## 3. Find Next Leap Years\n",
    "\n",
    "### Description\n",
    "\n",
    "Using the **Leap Year Classifier** program from the previous problem, your task is to write a program that determines the next **N leap years** starting from a given year. The user will input the starting year and the number of leap years they want to find.\n",
    "\n",
    "The program will:\n",
    "1. Use a **while loop** to iterate through the years starting from the given year.\n",
    "2. Use the leap year classification logic to check if each year is a leap year.\n",
    "3. Stop once the program has found **N leap years** and print them.\n",
    "\n",
    "### Requirements\n",
    "\n",
    "1. Ask the user to input:\n",
    "   - A **starting year**.\n",
    "   - The number of leap years (**N**) they want to find.\n",
    "2. Use a **while loop** to find the next `N` leap years.\n",
    "3. Use the leap year classification logic (from the previous problem) to check if a year is a leap year.\n",
    "4. Print the list of the next `N` leap years.\n",
    "\n",
    "### Sample Input and Output\n",
    "\n",
    "#### Input:\n",
    "```ascii\n",
    "Enter the starting year: 2023\n",
    "Enter the number of leap years to find: 5\n",
    "```\n",
    "\n",
    "#### Output:\n",
    "```ascii\n",
    "The next 5 leap years are: [2024, 2028, 2032, 2036, 2040]\n",
    "```\n",
    "\n",
    "### Hints\n",
    "\n",
    "1. Store leap years in a list (initialized to be empty) and append each leap year to the list.\n",
    "\n",
    "2. **Stopping the Loop**:\n",
    "   - Use `len(leap_years) < num_leap_years` as the condition to ensure the program stops once the required number of leap years is found.\n",
    "\n",
    "3. **Incrementing the Year**:\n",
    "   - Start from the given year and increment it by 1 in each iteration:\n",
    "     ```python\n",
    "     current_year += 1\n",
    "     ```"
   ]
  },
  {
   "cell_type": "code",
   "execution_count": null,
   "metadata": {},
   "outputs": [],
   "source": [
    "# Answer Here!"
   ]
  },
  {
   "cell_type": "markdown",
   "metadata": {},
   "source": [
    "## Submission\n",
    "\n",
    "Remember to submit your assignment at [**Google Drive**](https://drive.google.com/drive/folders/1r-KcMK5K-gwQklVu7e33sAiFOadtNBLD?usp=sharing). \n",
    "\n",
    "Only the `.ipynb` file should be submitted, and make sure to name your file in the following format:\n",
    "- For **Assignment 1**, use `name_assg1.ipynb`, e.g. `henry_assg1.ipynb`\n",
    "- For **Assignment 2**, use `name_assg2.ipynb`\n",
    "\n",
    "#### Note: Make sure you collect discriptions and answers of all problems into a single .ipynb file."
   ]
  }
 ],
 "metadata": {
  "kernelspec": {
   "display_name": "base",
   "language": "python",
   "name": "python3"
  },
  "language_info": {
   "codemirror_mode": {
    "name": "ipython",
    "version": 3
   },
   "file_extension": ".py",
   "mimetype": "text/x-python",
   "name": "python",
   "nbconvert_exporter": "python",
   "pygments_lexer": "ipython3",
   "version": "3.12.4"
  }
 },
 "nbformat": 4,
 "nbformat_minor": 2
}
