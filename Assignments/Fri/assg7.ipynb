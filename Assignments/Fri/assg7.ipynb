{
 "cells": [
  {
   "cell_type": "markdown",
   "metadata": {},
   "source": [
    "## 1. Recipe Finder\n",
    "\n",
    "### Description\n",
    "\n",
    "You are tasked with designing a **Recipe Finder** program. The program will suggest dishes that can be made using the main ingredient the user provides. Each ingredient can be used in multiple dishes, and the dishes are stored in a dictionary of lists.\n",
    "\n",
    "The program should:\n",
    "1. Ask the user for a main ingredient.\n",
    "2. Display all the dishes that can be made with that ingredient based on the dictionary.\n",
    "\n",
    "### Ingredients and Dishes\n",
    "\n",
    "| Ingredient   | Dishes                                 |\n",
    "|--------------|----------------------------------------|\n",
    "| Chicken      | Chicken Curry, Chicken Salad          |\n",
    "| Tomato       | Tomato Soup, Tomato Pasta             |\n",
    "| Egg          | Scrambled Eggs, Egg Sandwich          |\n",
    "| Potato       | Mashed Potatoes, Potato Chips         |\n",
    "| Cheese       | Grilled Cheese Sandwich, Cheese Pizza |\n",
    "\n",
    "### Requirements:\n",
    "\n",
    "1. Create a dictionary using the table above, where the key is the ingredient, and the value is a list of dishes.\n",
    "2. Ask the user to input the main ingredient they have.\n",
    "3. Use the dictionary to retrieve the list of dishes for the ingredient and print them as the sample output below (formatted as a bulleted list).\n",
    "\n",
    "### Sample Input\n",
    "\n",
    "```ascii\n",
    "What ingredient do you have? Tomato\n",
    "```\n",
    "\n",
    "### Sample Output\n",
    "\n",
    "```ascii\n",
    "You can make:\n",
    "- Tomato Soup\n",
    "- Tomato Pasta\n",
    "```"
   ]
  },
  {
   "cell_type": "code",
   "execution_count": null,
   "metadata": {},
   "outputs": [],
   "source": [
    "# Answer Here!"
   ]
  },
  {
   "cell_type": "markdown",
   "metadata": {},
   "source": [
    "## 2. Grocery Store Checkout\n",
    "\n",
    "### Description\n",
    "\n",
    "You are tasked with designing a simple grocery store checkout system. Each item in the store has a name, price, and stock quantity. Customers will input the items they want to buy along with the quantities, and the program will calculate the total cost of their purchase. \n",
    "\n",
    "The customer can only purchase up to **three items** in one transaction.\n",
    "\n",
    "The store's inventory is given in the table below:\n",
    "\n",
    "| Item    | Price ($) | Stock |\n",
    "|---------|-----------|-------|\n",
    "| Apple   | 2         | 10    |\n",
    "| Banana  | 1         | 5     |\n",
    "| Orange  | 3         | 8     |\n",
    "| Grape   | 4         | 3     |\n",
    "\n",
    "### Requirements:\n",
    "\n",
    "1. Create two dictionaries, one for prices and one for stocks, based on the table above.\n",
    "2. Ask the customer for three items they want to purchase and the quantities, one at a time.\n",
    "3. Check if the requested quantity is available:\n",
    "   - If enough stock is available, calculate the cost and deduct the stock.\n",
    "   - If not, inform the customer that the item is out of stock or the quantity is insufficient.\n",
    "4. Display the total cost of the purchase at the end.\n",
    "\n",
    "### Sample Input\n",
    "\n",
    "```ascii\n",
    "What do you want to buy? apple\n",
    "How many apples do you want? 3\n",
    "\n",
    "What do you want to buy? banana\n",
    "How many bananas do you want? 6\n",
    "\n",
    "What do you want to buy? orange\n",
    "How many oranges do you want? 2\n",
    "```\n",
    "\n",
    "### Sample Output\n",
    "\n",
    "```ascii\n",
    "You bought 3 apples for $6.\n",
    "Sorry, we don't have enough bananas. Only 5 left.\n",
    "You bought 2 oranges for $6.\n",
    "\n",
    "Total cost: $12\n",
    "```\n",
    "\n",
    "### Hints\n",
    "\n",
    "1. Use dictionary indexing to access the price and stock of the requested item:\n",
    "   - Example: `prices[\"apple\"]` gets the price of an apple, and `stocks[\"apple\"]` gets the stock.\n",
    "2. Check stock availability using an `if` statement. For example: `if stocks[item] < asked_quantity:`.\n",
    "3. Keep a running total for the cost of all purchased items and print it at the end.\n",
    "4. Remember to subtract the stock of the purchased item from the inventory with `stocks[item] = stocks[item] - asked_quantity`."
   ]
  },
  {
   "cell_type": "code",
   "execution_count": null,
   "metadata": {},
   "outputs": [],
   "source": [
    "# Answer Here!"
   ]
  },
  {
   "cell_type": "markdown",
   "metadata": {},
   "source": [
    "## Submission\n",
    "\n",
    "Remember to submit your assignment at [**Google Drive**](https://drive.google.com/drive/folders/1r-KcMK5K-gwQklVu7e33sAiFOadtNBLD?usp=sharing). \n",
    "\n",
    "Only the `.ipynb` file should be submitted, and make sure to name your file in the following format:\n",
    "- For **Assignment 1**, use `name_assg1.ipynb`, e.g. `henry_assg1.ipynb`\n",
    "- For **Assignment 2**, use `name_assg2.ipynb`\n",
    "\n",
    "#### Note: Make sure you collect discriptions and answers of all problems into a single .ipynb file."
   ]
  }
 ],
 "metadata": {
  "kernelspec": {
   "display_name": "base",
   "language": "python",
   "name": "python3"
  },
  "language_info": {
   "codemirror_mode": {
    "name": "ipython",
    "version": 3
   },
   "file_extension": ".py",
   "mimetype": "text/x-python",
   "name": "python",
   "nbconvert_exporter": "python",
   "pygments_lexer": "ipython3",
   "version": "3.12.4"
  }
 },
 "nbformat": 4,
 "nbformat_minor": 2
}
