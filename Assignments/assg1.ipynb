{
 "cells": [
  {
   "cell_type": "markdown",
   "metadata": {},
   "source": [
    "## 1. Self Introduction\n",
    "\n",
    "### Description\n",
    "\n",
    "In this exercise, you will write a Python program where the computer prompts you with a series of questions about yourself. After answering the questions, the program will output a summary of your responses in a friendly format. \n",
    "\n",
    "The questions the program should ask include:\n",
    "1. What’s your name?\n",
    "2. How old are you?\n",
    "3. What’s your favorite hobby?\n",
    "4. What’s your favorite programming language?\n",
    "\n",
    "After the user inputs the answers, the program should output a short self-introduction using the provided information.\n",
    "\n",
    "### Requirements:\n",
    "\n",
    "1. The program must display the self-introduction using a **formatted string**, exactly as shown in the sample output.\n",
    "2. Use **comments** throughout the code to maintain a clear and readable coding style. For example:\n",
    "\n",
    "    ```python\n",
    "    # Input\n",
    "    ...\n",
    "    # Output\n",
    "    ...\n",
    "    ```\n",
    "\n",
    "### Sample Input\n",
    "```ascii\n",
    "What’s your name? John\n",
    "How old are you? 25\n",
    "What’s your favorite hobby? Reading\n",
    "What’s your favorite programming language? Python\n",
    "```\n",
    "\n",
    "### Sample Output\n",
    "```ascii\n",
    "Hello, my name is John. I am 25 years old. My favorite hobby is Reading, and I enjoy programming in Python!\n",
    "```\n",
    "\n",
    "### Hint\n",
    "What's the difference between\n",
    "```python \n",
    "print(\"A\", \"B\")\n",
    "```\n",
    "and\n",
    "```python \n",
    "print(\"A\")\n",
    "print(\"B\")\n",
    "```"
   ]
  },
  {
   "cell_type": "code",
   "execution_count": null,
   "metadata": {},
   "outputs": [],
   "source": [
    "# Answer Here!"
   ]
  },
  {
   "cell_type": "markdown",
   "metadata": {},
   "source": [
    "## Submission\n",
    "\n",
    "Remember to submit your assignment at [**Google Drive**](https://drive.google.com/drive/folders/1mD4jQITMCpyZiqrDwInasjbFbeAzzx4X?usp=sharing). \n",
    "\n",
    "Only the `.ipynb` file should be submitted, and make sure to name your file in the following format:\n",
    "- For **Assignment 1**, use `name_assg1.ipynb`, e.g. `henry_assg1.ipynb`\n",
    "- For **Assignment 2**, use `name_assg2.ipynb`"
   ]
  },
  {
   "cell_type": "markdown",
   "metadata": {},
   "source": []
  }
 ],
 "metadata": {
  "language_info": {
   "name": "python"
  }
 },
 "nbformat": 4,
 "nbformat_minor": 2
}
