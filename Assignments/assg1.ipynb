{
 "cells": [
  {
   "cell_type": "markdown",
   "metadata": {},
   "source": [
    "## 1. Self Introduction\n",
    "\n",
    "### Description\n",
    "\n",
    "In this exercise, you will write a Python program where the computer prompts you with a series of questions about yourself. After answering the questions, the program will output a summary of your responses in a friendly format. \n",
    "\n",
    "The questions the program should ask include:\n",
    "1. What’s your name?\n",
    "2. How old are you?\n",
    "3. What’s your favorite hobby?\n",
    "4. What’s your favorite programming language?\n",
    "\n",
    "After the user inputs the answers, the program should output a short self-introduction using the provided information.\n",
    "\n",
    "### Requirements:\n",
    "\n",
    "1. The program must display the self-introduction using a **formatted string**, exactly as shown in the sample output.\n",
    "2. Use **comments** throughout the code to maintain a clear and readable coding style. For example:\n",
    "\n",
    "    ```python\n",
    "    # Input\n",
    "    ...\n",
    "    # Output\n",
    "    ...\n",
    "    ```\n",
    "\n",
    "### Sample Input\n",
    "```ascii\n",
    "What’s your name? John\n",
    "How old are you? 25\n",
    "What’s your favorite hobby? Reading\n",
    "What’s your favorite programming language? Python\n",
    "```\n",
    "\n",
    "### Sample Output\n",
    "```ascii\n",
    "Hello, my name is John. I am 25 years old. My favorite hobby is Reading, and I enjoy programming in Python!\n",
    "```\n",
    "\n",
    "### Hint\n",
    "What's the difference between\n",
    "```python \n",
    "print(\"A\", \"B\")\n",
    "```\n",
    "and\n",
    "```python \n",
    "print(\"A\")\n",
    "print(\"B\")\n",
    "```"
   ]
  },
  {
   "cell_type": "code",
   "execution_count": null,
   "metadata": {},
   "outputs": [],
   "source": [
    "# Answer Here!"
   ]
  },
  {
   "cell_type": "markdown",
   "metadata": {},
   "source": [
    "## 2. Prettify Ugly String\n",
    "\n",
    "### Description\n",
    "\n",
    "You are given a string that represents an unformatted book title. Your task is to apply different string methods to clean it up and transform it into several formats, each with specific requirements.\n",
    "\n",
    "### Requirements:\n",
    "\n",
    "1. Convert the string into **Title Case** (i.e., capitalize the first letter of each word).\n",
    "2. Convert the string into **Upper Case** (i.e., all letters capitalized).\n",
    "3. Convert the string into **Lower Case** (i.e., all letters lowercase).\n",
    "4. The outputs should follow the format of `number. case_name: \"processed_string\"`, as shown in the example below.\n",
    "\n",
    "### Input\n",
    "\n",
    "You are provided with the following initial string:\n",
    "\n",
    "```python\n",
    "ugly = \" tiTle of MY new Book\"\n",
    "```\n",
    "\n",
    "### Sample Output\n",
    "\n",
    "```ascii\n",
    "1. Pretty version in Title Case: \"Title Of My New Book\"\n",
    "2. Pretty version in Upper Case: \"TITLE OF MY NEW BOOK\"\n",
    "3. Pretty version in Lower Case: \"title of my new book\"\n",
    "```"
   ]
  },
  {
   "cell_type": "code",
   "execution_count": null,
   "metadata": {},
   "outputs": [],
   "source": [
    "# Answer Here!\n",
    "\n",
    "ugly = \" tiTle of MY new Book\""
   ]
  },
  {
   "cell_type": "markdown",
   "metadata": {},
   "source": [
    "## 3. Which number do you want?\n",
    "\n",
    "### Description\n",
    "\n",
    "In this exercise, you will write a Python program where the computer asks you to input three different numbers. After you provide the numbers, the computer will ask you to specify which number you would like to retrieve by inputting a position (1 for the first number, 2 for the second, or 3 for the third). The program will then output the corresponding number.\n",
    "\n",
    "### Requirements:\n",
    "\n",
    "1. The program must ask for **three numbers** from the user.\n",
    "2. The user should input a **position (1, 2, or 3)**, and the program should output the number at that position.\n",
    "3. The program should handle the selection of the number using list indexing. Remember that list indexing starts from 0, so you need to adjust for this.\n",
    "4. Include **comments** to explain the logic in the code for clarity.\n",
    "\n",
    "### Sample Input\n",
    "```ascii\n",
    "#1 number? 10\n",
    "#2 number? 8\n",
    "#3 number? 7\n",
    "Which number would you like? 2\n",
    "```\n",
    "\n",
    "### Sample Output\n",
    "```ascii\n",
    "8\n",
    "```"
   ]
  },
  {
   "cell_type": "code",
   "execution_count": null,
   "metadata": {},
   "outputs": [],
   "source": [
    "# Answer Here!"
   ]
  },
  {
   "cell_type": "markdown",
   "metadata": {},
   "source": [
    "## 4. Fruit Store Menu\n",
    "\n",
    "### Description\n",
    "\n",
    "In this exercise, you will write a Python program that prompts the user to input the name and price of three different fruits. After collecting this information, the program will output a formatted fruit store menu that includes the fruit names and their respective prices, using special characters like `\\n`, `\\t` to style the output.\n",
    "\n",
    "### Requirements:\n",
    "\n",
    "1. The program must prompt the user three times for a fruit name and its price.\n",
    "2. Use **formatted strings** and special characters like `\\n` (for new lines) and `\\t` (for tabs) to display the menu in a neat, organized format as the sample output.\n",
    "4. Use **comments** to clearly explain the code steps.\n",
    "\n",
    "### Sample Input\n",
    "```ascii\n",
    "What's the name of the fruit? Banana\n",
    "What's the price of a Banana? 10\n",
    "\n",
    "What's the name of the fruit? Apple\n",
    "What's the price of an Apple? 15\n",
    "\n",
    "What's the name of the fruit? Orange\n",
    "What's the price of an Orange? 12\n",
    "```\n",
    "\n",
    "### Sample Ouput\n",
    "```ascii\n",
    "Fruit Store Menu\n",
    "\n",
    "1. Banana   -   10\n",
    "2. Apple    -   15\n",
    "3. Orange   -   12\n",
    "```"
   ]
  },
  {
   "cell_type": "code",
   "execution_count": null,
   "metadata": {},
   "outputs": [],
   "source": [
    "# Answer Here!"
   ]
  },
  {
   "cell_type": "markdown",
   "metadata": {},
   "source": [
    "## Submission\n",
    "\n",
    "Remember to submit your assignment at [**Google Drive**](https://drive.google.com/drive/folders/1mD4jQITMCpyZiqrDwInasjbFbeAzzx4X?usp=sharing). \n",
    "\n",
    "Only the `.ipynb` file should be submitted, and make sure to name your file in the following format:\n",
    "- For **Assignment 1**, use `name_assg1.ipynb`, e.g. `henry_assg1.ipynb`\n",
    "- For **Assignment 2**, use `name_assg2.ipynb`"
   ]
  }
 ],
 "metadata": {
  "language_info": {
   "name": "python"
  }
 },
 "nbformat": 4,
 "nbformat_minor": 2
}
