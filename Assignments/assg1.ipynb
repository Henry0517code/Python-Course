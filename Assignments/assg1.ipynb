{
 "cells": [
  {
   "cell_type": "markdown",
   "metadata": {},
   "source": [
    "## 1. Self Introduction\n",
    "\n",
    "### Description\n",
    "\n",
    "In this exercise, you will write a Python program where the computer prompts you with a series of questions about yourself. After answering the questions, the program will output a summary of your responses in a friendly format. \n",
    "\n",
    "The questions the program should ask include:\n",
    "1. What’s your name?\n",
    "2. How old are you?\n",
    "3. What’s your favorite hobby?\n",
    "4. What’s your favorite programming language?\n",
    "\n",
    "After the user inputs the answers, the program should output a short self-introduction using the provided information.\n",
    "\n",
    "### Requirements:\n",
    "\n",
    "1. The program must display the self-introduction using a **formatted string**, exactly as shown in the sample output.\n",
    "2. Use **comments** throughout the code to maintain a clear and readable coding style. For example:\n",
    "\n",
    "    ```python\n",
    "    # Input\n",
    "    ...\n",
    "    # Output\n",
    "    ...\n",
    "    ```\n",
    "\n",
    "### Sample Input\n",
    "```ascii\n",
    "What’s your name? John\n",
    "How old are you? 25\n",
    "What’s your favorite hobby? Reading\n",
    "What’s your favorite programming language? Python\n",
    "```\n",
    "\n",
    "### Sample Output\n",
    "```ascii\n",
    "Hello, my name is John. I am 25 years old. My favorite hobby is Reading, and I enjoy programming in Python!\n",
    "```"
   ]
  },
  {
   "cell_type": "code",
   "execution_count": null,
   "metadata": {},
   "outputs": [],
   "source": [
    "# Answer Here!"
   ]
  },
  {
   "cell_type": "markdown",
   "metadata": {},
   "source": [
    "## 2. Prettify Ugly String\n",
    "\n",
    "### Description\n",
    "\n",
    "You are given a string that represents an unformatted book title. Your task is to apply different string methods to clean it up and transform it into several formats, each with specific requirements.\n",
    "\n",
    "### Requirements:\n",
    "\n",
    "1. Convert the string into **Title Case** (i.e., capitalize the first letter of each word).\n",
    "2. Convert the string into **Upper Case** (i.e., all letters capitalized).\n",
    "3. Convert the string into **Lower Case** (i.e., all letters lowercase).\n",
    "4. The outputs should follow the format of `number. case_name: \"processed_string\"`, as shown in the example below.\n",
    "\n",
    "### Input\n",
    "\n",
    "You are provided with the following initial string:\n",
    "\n",
    "```python\n",
    "ugly = \" tiTle of MY new Book\"\n",
    "```\n",
    "\n",
    "### Sample Output\n",
    "\n",
    "```ascii\n",
    "1. Pretty version in Title Case: \"Title Of My New Book\"\n",
    "2. Pretty version in Upper Case: \"TITLE OF MY NEW BOOK\"\n",
    "3. Pretty version in Lower Case: \"title of my new book\"\n",
    "```"
   ]
  },
  {
   "cell_type": "code",
   "execution_count": null,
   "metadata": {},
   "outputs": [],
   "source": [
    "# Answer Here!\n",
    "\n",
    "ugly = \" tiTle of MY new Book\""
   ]
  },
  {
   "cell_type": "markdown",
   "metadata": {},
   "source": [
    "## Submission\n",
    "\n",
    "Remember to submit your assignment at [**Google Drive**](https://drive.google.com/drive/folders/1r-KcMK5K-gwQklVu7e33sAiFOadtNBLD?usp=sharing). \n",
    "\n",
    "Only the `.ipynb` file should be submitted, and make sure to name your file in the following format:\n",
    "- For **Assignment 1**, use `name_assg1.ipynb`, e.g. `henry_assg1.ipynb`\n",
    "- For **Assignment 2**, use `name_assg2.ipynb`"
   ]
  },
  {
   "cell_type": "markdown",
   "metadata": {},
   "source": []
  }
 ],
 "metadata": {
  "language_info": {
   "name": "python"
  }
 },
 "nbformat": 4,
 "nbformat_minor": 2
}
