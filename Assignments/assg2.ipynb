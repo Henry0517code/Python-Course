{
 "cells": [
  {
   "cell_type": "markdown",
   "metadata": {},
   "source": [
    "## 1. Which number do you want?\n",
    "\n",
    "### Description\n",
    "\n",
    "In this exercise, you will write a Python program where the computer asks you to input three different numbers. After you provide the numbers, the computer will ask you to specify which number you would like to retrieve by inputting a position (1 for the first number, 2 for the second, or 3 for the third). The program will then output the corresponding number.\n",
    "\n",
    "### Requirements:\n",
    "\n",
    "1. The program must ask for **three numbers** from the user.\n",
    "2. The user should input a **position (1, 2, or 3)**, and the program should output the number at that position.\n",
    "3. The program should handle the selection of the number using list indexing. Remember that list indexing starts from 0, so you need to adjust for this.\n",
    "4. Include **comments** to explain the logic in the code for clarity.\n",
    "\n",
    "### Sample Input\n",
    "```ascii\n",
    "#1 number? 10\n",
    "#2 number? 8\n",
    "#3 number? 7\n",
    "Which number would you like? 2\n",
    "```\n",
    "\n",
    "### Sample Output\n",
    "```ascii\n",
    "8\n",
    "```"
   ]
  },
  {
   "cell_type": "code",
   "execution_count": null,
   "metadata": {},
   "outputs": [],
   "source": [
    "# Answer Here!"
   ]
  },
  {
   "cell_type": "markdown",
   "metadata": {},
   "source": [
    "## 2. Fruit Store Menu\n",
    "\n",
    "### Description\n",
    "\n",
    "In this exercise, you will write a Python program that prompts the user to input the name and price of three different fruits. After collecting this information, the program will output a formatted fruit store menu that includes the fruit names and their respective prices, using special characters like `\\n`, `\\t` to style the output.\n",
    "\n",
    "### Requirements:\n",
    "\n",
    "1. The program must prompt the user three times for a fruit name and its price.\n",
    "2. Use **formatted strings** and special characters like `\\n` (for new lines) and `\\t` (for tabs) to display the menu in a neat, organized format as the sample output.\n",
    "4. Use **comments** to clearly explain the code steps.\n",
    "\n",
    "### Sample Input\n",
    "```ascii\n",
    "What's the name of the fruit? Banana\n",
    "What's the price of a Banana? 10\n",
    "\n",
    "What's the name of the fruit? Apple\n",
    "What's the price of an Apple? 15\n",
    "\n",
    "What's the name of the fruit? Orange\n",
    "What's the price of an Orange? 12\n",
    "```\n",
    "\n",
    "### Sample Ouput\n",
    "```ascii\n",
    "Fruit Store Menu\n",
    "\n",
    "1. Banana   -   10\n",
    "2. Apple    -   15\n",
    "3. Orange   -   12\n",
    "```"
   ]
  },
  {
   "cell_type": "code",
   "execution_count": null,
   "metadata": {},
   "outputs": [],
   "source": [
    "# Answer Here!"
   ]
  },
  {
   "cell_type": "markdown",
   "metadata": {},
   "source": [
    "## 3. Area of a Triangle\n",
    "\n",
    "### Description\n",
    "\n",
    "In this exercise, you will write a Python program to calculate the area of a triangle when given the lengths of its three sides. You will use Heron's formula to compute the area based on the side lengths.\n",
    "\n",
    "Heron's formula states that:\n",
    "\n",
    "$\n",
    "\\text{Area} = \\sqrt{s(s-a)(s-b)(s-c)}\n",
    "$\n",
    "\n",
    "Where:\n",
    "- \\(a\\), \\(b\\), and \\(c\\) are the lengths of the three sides of the triangle.\n",
    "- \\(s\\) is the semi-perimeter of the triangle, calculated as:\n",
    "\n",
    "$\n",
    "s = \\frac{a + b + c}{2}\n",
    "$\n",
    "\n",
    "### Requirements:\n",
    "\n",
    "1. The program must prompt the user to input three positive numbers representing the lengths of the sides of the triangle.\n",
    "2. The program should calculate the semi-perimeter \\(s\\) and use it to compute the area of the triangle using Heron's formula.\n",
    "4. Use **comments** to explain the steps in the program for clarity.\n",
    "\n",
    "### Sample Input\n",
    "```ascii\n",
    "Enter the length of side 1: 3\n",
    "Enter the length of side 2: 4\n",
    "Enter the length of side 3: 5\n",
    "```\n",
    "\n",
    "### Sample Output\n",
    "```ascii\n",
    "The area of the triangle is 6.00.\n",
    "```\n",
    "\n",
    "### Hint\n",
    "You can use the expression `** (1/2)` to calculate the square root of a number in Python.\n"
   ]
  },
  {
   "cell_type": "code",
   "execution_count": null,
   "metadata": {},
   "outputs": [],
   "source": [
    "# Answer Here!"
   ]
  },
  {
   "cell_type": "markdown",
   "metadata": {},
   "source": [
    "## Submission\n",
    "\n",
    "Remember to submit your assignment at [**Google Drive**](https://drive.google.com/drive/folders/1r-KcMK5K-gwQklVu7e33sAiFOadtNBLD?usp=sharing). \n",
    "\n",
    "Only the `.ipynb` file should be submitted, and make sure to name your file in the following format:\n",
    "- For **Assignment 1**, use `name_assg1.ipynb`, e.g. `henry_assg1.ipynb`\n",
    "- For **Assignment 2**, use `name_assg2.ipynb`\n",
    "\n",
    "#### Note: Make sure you collect discriptions and answers of all problems into a single .ipynb file."
   ]
  },
  {
   "cell_type": "markdown",
   "metadata": {},
   "source": []
  }
 ],
 "metadata": {
  "kernelspec": {
   "display_name": "base",
   "language": "python",
   "name": "python3"
  },
  "language_info": {
   "codemirror_mode": {
    "name": "ipython",
    "version": 3
   },
   "file_extension": ".py",
   "mimetype": "text/x-python",
   "name": "python",
   "nbconvert_exporter": "python",
   "pygments_lexer": "ipython3",
   "version": "3.12.4"
  }
 },
 "nbformat": 4,
 "nbformat_minor": 2
}
