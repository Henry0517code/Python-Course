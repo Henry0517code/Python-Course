{
 "cells": [
  {
   "cell_type": "markdown",
   "id": "0ca73512",
   "metadata": {},
   "source": [
    "# 🗣️ Voice Classifier 101\n",
    "\n",
    "**Goal:** Given a short `.wav` recording, predict **who** is talking (e.g. Alice vs. Bob).\n",
    "\n",
    "**How it works (high level):**  \n",
    "1. **Listen:** We turn each audio clip into a list of numbers (features).  \n",
    "2. **Learn:** We show these features and labels (who’s speaking) to a simple machine learner (`scikit-learn`’s SVM).  \n",
    "3. **Guess:** The learner makes predictions on new clips!"
   ]
  },
  {
   "cell_type": "markdown",
   "id": "f2dd2744",
   "metadata": {},
   "source": [
    "## 📦 0. Setup: Install what we need"
   ]
  },
  {
   "cell_type": "code",
   "execution_count": 3,
   "id": "04d7c227",
   "metadata": {},
   "outputs": [
    {
     "name": "stdout",
     "output_type": "stream",
     "text": [
      "Collecting librosa\n",
      "  Using cached librosa-0.11.0-py3-none-any.whl.metadata (8.7 kB)\n",
      "Requirement already satisfied: scikit-learn in /opt/anaconda3/lib/python3.12/site-packages (1.4.2)\n",
      "Requirement already satisfied: matplotlib in /opt/anaconda3/lib/python3.12/site-packages (3.8.4)\n",
      "Collecting soundfile\n",
      "  Using cached soundfile-0.13.1-py2.py3-none-macosx_11_0_arm64.whl.metadata (16 kB)\n",
      "Collecting audioread>=2.1.9 (from librosa)\n",
      "  Using cached audioread-3.0.1-py3-none-any.whl.metadata (8.4 kB)\n",
      "Requirement already satisfied: numba>=0.51.0 in /opt/anaconda3/lib/python3.12/site-packages (from librosa) (0.59.1)\n",
      "Requirement already satisfied: numpy>=1.22.3 in /opt/anaconda3/lib/python3.12/site-packages (from librosa) (1.26.4)\n",
      "Requirement already satisfied: scipy>=1.6.0 in /opt/anaconda3/lib/python3.12/site-packages (from librosa) (1.13.1)\n",
      "Requirement already satisfied: joblib>=1.0 in /opt/anaconda3/lib/python3.12/site-packages (from librosa) (1.4.2)\n",
      "Requirement already satisfied: decorator>=4.3.0 in /opt/anaconda3/lib/python3.12/site-packages (from librosa) (5.1.1)\n",
      "Collecting pooch>=1.1 (from librosa)\n",
      "  Using cached pooch-1.8.2-py3-none-any.whl.metadata (10 kB)\n",
      "Collecting soxr>=0.3.2 (from librosa)\n",
      "  Using cached soxr-0.5.0.post1-cp312-abi3-macosx_11_0_arm64.whl.metadata (5.6 kB)\n",
      "Requirement already satisfied: typing_extensions>=4.1.1 in /opt/anaconda3/lib/python3.12/site-packages (from librosa) (4.12.2)\n",
      "Requirement already satisfied: lazy_loader>=0.1 in /opt/anaconda3/lib/python3.12/site-packages (from librosa) (0.4)\n",
      "Requirement already satisfied: msgpack>=1.0 in /opt/anaconda3/lib/python3.12/site-packages (from librosa) (1.0.3)\n",
      "Requirement already satisfied: threadpoolctl>=2.0.0 in /opt/anaconda3/lib/python3.12/site-packages (from scikit-learn) (2.2.0)\n",
      "Requirement already satisfied: contourpy>=1.0.1 in /opt/anaconda3/lib/python3.12/site-packages (from matplotlib) (1.2.0)\n",
      "Requirement already satisfied: cycler>=0.10 in /opt/anaconda3/lib/python3.12/site-packages (from matplotlib) (0.11.0)\n",
      "Requirement already satisfied: fonttools>=4.22.0 in /opt/anaconda3/lib/python3.12/site-packages (from matplotlib) (4.51.0)\n",
      "Requirement already satisfied: kiwisolver>=1.3.1 in /opt/anaconda3/lib/python3.12/site-packages (from matplotlib) (1.4.4)\n",
      "Requirement already satisfied: packaging>=20.0 in /opt/anaconda3/lib/python3.12/site-packages (from matplotlib) (23.2)\n",
      "Requirement already satisfied: pillow>=8 in /opt/anaconda3/lib/python3.12/site-packages (from matplotlib) (10.3.0)\n",
      "Requirement already satisfied: pyparsing>=2.3.1 in /opt/anaconda3/lib/python3.12/site-packages (from matplotlib) (3.0.9)\n",
      "Requirement already satisfied: python-dateutil>=2.7 in /opt/anaconda3/lib/python3.12/site-packages (from matplotlib) (2.9.0.post0)\n",
      "Requirement already satisfied: cffi>=1.0 in /opt/anaconda3/lib/python3.12/site-packages (from soundfile) (1.16.0)\n",
      "Requirement already satisfied: pycparser in /opt/anaconda3/lib/python3.12/site-packages (from cffi>=1.0->soundfile) (2.21)\n",
      "Requirement already satisfied: llvmlite<0.43,>=0.42.0dev0 in /opt/anaconda3/lib/python3.12/site-packages (from numba>=0.51.0->librosa) (0.42.0)\n",
      "Requirement already satisfied: platformdirs>=2.5.0 in /opt/anaconda3/lib/python3.12/site-packages (from pooch>=1.1->librosa) (3.10.0)\n",
      "Requirement already satisfied: requests>=2.19.0 in /opt/anaconda3/lib/python3.12/site-packages (from pooch>=1.1->librosa) (2.32.2)\n",
      "Requirement already satisfied: six>=1.5 in /opt/anaconda3/lib/python3.12/site-packages (from python-dateutil>=2.7->matplotlib) (1.16.0)\n",
      "Requirement already satisfied: charset-normalizer<4,>=2 in /opt/anaconda3/lib/python3.12/site-packages (from requests>=2.19.0->pooch>=1.1->librosa) (2.0.4)\n",
      "Requirement already satisfied: idna<4,>=2.5 in /opt/anaconda3/lib/python3.12/site-packages (from requests>=2.19.0->pooch>=1.1->librosa) (3.7)\n",
      "Requirement already satisfied: urllib3<3,>=1.21.1 in /opt/anaconda3/lib/python3.12/site-packages (from requests>=2.19.0->pooch>=1.1->librosa) (2.2.2)\n",
      "Requirement already satisfied: certifi>=2017.4.17 in /opt/anaconda3/lib/python3.12/site-packages (from requests>=2.19.0->pooch>=1.1->librosa) (2025.1.31)\n",
      "Using cached librosa-0.11.0-py3-none-any.whl (260 kB)\n",
      "Using cached soundfile-0.13.1-py2.py3-none-macosx_11_0_arm64.whl (1.1 MB)\n",
      "Using cached audioread-3.0.1-py3-none-any.whl (23 kB)\n",
      "Using cached pooch-1.8.2-py3-none-any.whl (64 kB)\n",
      "Using cached soxr-0.5.0.post1-cp312-abi3-macosx_11_0_arm64.whl (156 kB)\n",
      "Installing collected packages: soxr, audioread, soundfile, pooch, librosa\n",
      "Successfully installed audioread-3.0.1 librosa-0.11.0 pooch-1.8.2 soundfile-0.13.1 soxr-0.5.0.post1\n"
     ]
    }
   ],
   "source": [
    "!pip install librosa scikit-learn matplotlib soundfile"
   ]
  },
  {
   "cell_type": "markdown",
   "id": "6448a7cc",
   "metadata": {},
   "source": [
    "## 🗂️ 1. Prepare a tiny dataset\n",
    "\n",
    "1. Create a folder structure in your project:\n",
    "    ```\n",
    "    data/\n",
    "    ├─ Alice/\n",
    "    │    ├─ alice1.wav\n",
    "    │    ├─ alice2.wav\n",
    "    │    └─ alice3.wav\n",
    "    └─ Bob/\n",
    "        ├─ bob1.wav\n",
    "        ├─ bob2.wav\n",
    "        └─ bob3.wav\n",
    "    ```\n",
    "2. Record 3 short clips (5–10 s) of **Alice** and 3 of **Bob** on your phone or computer.\n",
    "3. Save them as `.wav` files in the folders above."
   ]
  },
  {
   "cell_type": "markdown",
   "id": "09c2d68d",
   "metadata": {},
   "source": [
    "## 🔧 2. Import libraries"
   ]
  },
  {
   "cell_type": "code",
   "execution_count": 4,
   "id": "0703273f",
   "metadata": {},
   "outputs": [],
   "source": [
    "import os\n",
    "import numpy as np\n",
    "import librosa\n",
    "import librosa.display\n",
    "import matplotlib.pyplot as plt\n",
    "\n",
    "from sklearn.model_selection import train_test_split\n",
    "from sklearn.svm import SVC\n",
    "from sklearn.metrics import classification_report, ConfusionMatrixDisplay"
   ]
  },
  {
   "cell_type": "markdown",
   "id": "cda114c3",
   "metadata": {},
   "source": [
    "## 🎶 3. How does the computer “hear” sound?\n",
    "\n",
    "A `.wav` file is just a sequence of numbers (amplitudes over time). We can **plot** the waveform to see the squiggles!"
   ]
  },
  {
   "cell_type": "code",
   "execution_count": 5,
   "id": "61a9e992",
   "metadata": {},
   "outputs": [
    {
     "data": {
      "image/png": "[encoded data removed]",
      "text/plain": [
       "<Figure size 800x200 with 1 Axes>"
      ]
     },
     "metadata": {},
     "output_type": "display_data"
    }
   ],
   "source": [
    "# Load and plot one example\n",
    "path = \"data/Alice/alice1.wav\"\n",
    "y, sr = librosa.load(path, duration=5)\n",
    "\n",
    "plt.figure(figsize=(8, 2))\n",
    "plt.plot(y)\n",
    "plt.title(\"Waveform of alice1.wav\")\n",
    "plt.ylabel(\"Amplitude\")\n",
    "plt.xlabel(\"Time (frames)\")\n",
    "plt.tight_layout()\n",
    "plt.show()"
   ]
  },
  {
   "cell_type": "markdown",
   "id": "6deb4b22",
   "metadata": {},
   "source": [
    "## 🧩 4. Extract “features” (MFCCs)\n",
    "\n",
    "- Raw waveforms are long; we summarize them with **MFCCs** (13 numbers that capture the “shape” of the sound).\n",
    "- The computer learns from these fixed-size feature vectors."
   ]
  },
  {
   "cell_type": "code",
   "execution_count": 6,
   "id": "f2f125da",
   "metadata": {},
   "outputs": [
    {
     "data": {
      "image/png": "[encoded data removed]",
      "text/plain": [
       "<Figure size 600x300 with 2 Axes>"
      ]
     },
     "metadata": {},
     "output_type": "display_data"
    }
   ],
   "source": [
    "def extract_mfcc(file_path, n_mfcc=13):\n",
    "    y, sr = librosa.load(file_path, duration=5)\n",
    "    mfcc = librosa.feature.mfcc(y=y, sr=sr, n_mfcc=n_mfcc)\n",
    "    return mfcc.mean(axis=1)\n",
    "\n",
    "# Visualize MFCC heatmap for alice1\n",
    "mf = librosa.feature.mfcc(y=y, sr=sr, n_mfcc=13)\n",
    "plt.figure(figsize=(6, 3))\n",
    "librosa.display.specshow(mf, x_axis='time')\n",
    "plt.colorbar()\n",
    "plt.title(\"MFCCs of alice1.wav\")\n",
    "plt.tight_layout()\n",
    "plt.show()"
   ]
  },
  {
   "cell_type": "markdown",
   "id": "c2bd6c46",
   "metadata": {},
   "source": [
    "## 🏗️ 5. Build our dataset arrays"
   ]
  },
  {
   "cell_type": "code",
   "execution_count": 7,
   "id": "d1b72856",
   "metadata": {},
   "outputs": [
    {
     "name": "stdout",
     "output_type": "stream",
     "text": [
      "Feature matrix shape: (6, 13)\n"
     ]
    }
   ],
   "source": [
    "X, y_labels = [], []\n",
    "\n",
    "for speaker in [\"Alice\", \"Bob\"]:\n",
    "    folder = f\"data/{speaker}\"\n",
    "    for fname in os.listdir(folder):\n",
    "        if fname.endswith(\".wav\"):\n",
    "            feats = extract_mfcc(os.path.join(folder, fname))\n",
    "            X.append(feats)\n",
    "            y_labels.append(speaker)\n",
    "\n",
    "X = np.array(X)\n",
    "y_labels = np.array(y_labels)\n",
    "print(\"Feature matrix shape:\", X.shape)  # e.g. (6, 13)"
   ]
  },
  {
   "cell_type": "markdown",
   "id": "1caa6046",
   "metadata": {},
   "source": [
    "## 🔀 6. Split into train/test"
   ]
  },
  {
   "cell_type": "code",
   "execution_count": 8,
   "id": "10948861",
   "metadata": {},
   "outputs": [
    {
     "name": "stdout",
     "output_type": "stream",
     "text": [
      "Training on 4 clips; testing on 2 clips\n"
     ]
    }
   ],
   "source": [
    "X_train, X_test, y_train, y_test = train_test_split(\n",
    "    X, y_labels, test_size=0.33, random_state=42\n",
    ")\n",
    "print(f\"Training on {len(X_train)} clips; testing on {len(X_test)} clips\")"
   ]
  },
  {
   "cell_type": "markdown",
   "id": "537674db",
   "metadata": {},
   "source": [
    "## 🤖 7. Train a simple SVM classifier\n",
    "\n",
    "- We represent each voice clip with 13 numbers.\n",
    "\n",
    "    | MFCC Features (13 numbers) | Speaker |\n",
    "    | -------------------------- | ------- |\n",
    "    | `[12.3, -4.5, 0.9, ...]`   | Alice   |\n",
    "    | `[8.1, -2.0, 3.5, ...]`    | Bob     |\n",
    "    | ...                        | ...     |\n",
    "\n",
    "<br>\n",
    "\n",
    "- The computer looks at all the dots and tries to separate them: one side for Alice, one side for Bob.\n",
    "\n",
    "    ![illustration](./illustration.png)\n",
    "\n",
    "    <br>\n",
    "    \n",
    "    > Open [learning_demo.html](./learning_demo.html) with your browser for the example."
   ]
  },
  {
   "cell_type": "code",
   "execution_count": 9,
   "id": "bfdb445e",
   "metadata": {},
   "outputs": [
    {
     "name": "stdout",
     "output_type": "stream",
     "text": [
      "Model trained successfully!\n"
     ]
    }
   ],
   "source": [
    "model = SVC(kernel=\"linear\")\n",
    "model.fit(X_train, y_train)\n",
    "print(\"Model trained successfully!\")"
   ]
  },
  {
   "cell_type": "markdown",
   "id": "eeb6fa43",
   "metadata": {},
   "source": [
    "## 📊 8. See how well we did"
   ]
  },
  {
   "cell_type": "code",
   "execution_count": 10,
   "id": "ee81164c",
   "metadata": {},
   "outputs": [
    {
     "name": "stdout",
     "output_type": "stream",
     "text": [
      "              precision    recall  f1-score   support\n",
      "\n",
      "       Alice       1.00      1.00      1.00         2\n",
      "\n",
      "    accuracy                           1.00         2\n",
      "   macro avg       1.00      1.00      1.00         2\n",
      "weighted avg       1.00      1.00      1.00         2\n",
      "\n"
     ]
    },
    {
     "name": "stderr",
     "output_type": "stream",
     "text": [
      "/opt/anaconda3/lib/python3.12/site-packages/sklearn/metrics/_classification.py:386: UserWarning: A single label was found in 'y_true' and 'y_pred'. For the confusion matrix to have the correct shape, use the 'labels' parameter to pass all known labels.\n",
      "  warnings.warn(\n"
     ]
    },
    {
     "data": {
      "image/png": "[encoded data removed]",
      "text/plain": [
       "<Figure size 640x480 with 2 Axes>"
      ]
     },
     "metadata": {},
     "output_type": "display_data"
    }
   ],
   "source": [
    "y_pred = model.predict(X_test)\n",
    "print(classification_report(y_test, y_pred))\n",
    "\n",
    "ConfusionMatrixDisplay.from_predictions(y_test, y_pred)\n",
    "plt.title(\"Confusion Matrix: True vs. Predicted\")\n",
    "plt.show()"
   ]
  },
  {
   "cell_type": "markdown",
   "id": "d6ab2dc0",
   "metadata": {},
   "source": [
    "## 🎤 9. Try a brand-new recording"
   ]
  },
  {
   "cell_type": "code",
   "execution_count": 11,
   "id": "60f375df",
   "metadata": {},
   "outputs": [
    {
     "name": "stdout",
     "output_type": "stream",
     "text": [
      "I think this is: Bob\n"
     ]
    }
   ],
   "source": [
    "# Record and save a fresh clip as \"bob_new.wav\" in data/Bob/, then:\n",
    "new_path = \"data/Bob/bob3.wav\"\n",
    "new_feats = extract_mfcc(new_path).reshape(1, -1)\n",
    "guess = model.predict(new_feats)[0]\n",
    "print(\"I think this is:\", guess)"
   ]
  },
  {
   "cell_type": "markdown",
   "id": "2a5ec959",
   "metadata": {},
   "source": [
    "## 🏁 10. What did we learn?\n",
    "\n",
    "1. **Sound → numbers** via MFCCs.  \n",
    "2. **Numbers + labels** teach the computer.  \n",
    "3. A **simple SVM** can separate speakers.  \n",
    "4. **Visuals** (waveform, MFCC heatmap, confusion matrix) help us understand.\n",
    "\n",
    "🎉 **Congrats!** You’ve built a mini voice-recognition AI. Try adding more friends, clips, or classifiers to extend it!"
   ]
  }
 ],
 "metadata": {
  "kernelspec": {
   "display_name": "base",
   "language": "python",
   "name": "python3"
  },
  "language_info": {
   "codemirror_mode": {
    "name": "ipython",
    "version": 3
   },
   "file_extension": ".py",
   "mimetype": "text/x-python",
   "name": "python",
   "nbconvert_exporter": "python",
   "pygments_lexer": "ipython3",
   "version": "3.12.4"
  }
 },
 "nbformat": 4,
 "nbformat_minor": 5
}
